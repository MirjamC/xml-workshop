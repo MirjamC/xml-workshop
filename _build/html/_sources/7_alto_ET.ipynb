{
 "cells": [
  {
   "cell_type": "markdown",
   "id": "635664f6",
   "metadata": {},
   "source": [
    "# 7. Practical: Extract information from the Alto format with ElemenTree\n",
    "\n",
    "\n",
    "In this lesson, we are going to extract the plain text and some additional information from an Alto file containing a Dutch newspaper. \n",
    "We assume that you have followed the practical lesson 4. We will reference to corresponding parts of that lesson so you can check how it worked. \n",
    "\n",
    "We follow these steps:\n",
    "- Load the XML file;\n",
    "- Examine the structure of the XML file;\n",
    "- Extract the plain text;\n",
    "- Divide the plain text into seperate articles;\n",
    "- Extract the page number;\n",
    "- Save the content in one file and in seperate textfiles; \n",
    "\n",
    "Open a new Jupyter Notebook and type all code examples and code exercises in your Notebook. \n",
    "(see explantion in {ref}`ET:import`)\n",
    "\n",
    "## Import ElemenTree and import the xml file\n",
    "\n",
    "```{admonition} Exercise\n",
    "Import the package and load the xml file. \n",
    "\n",
    "```\n",
    "\n",
    "```{admonition} Solution\n",
    ":class: tip, dropdown\n",
    "\ttree = ET.parse('xml-workshop/data/alto.xml')\n",
    "\troot = tree.getroot()\n",
    "```\n",
    "\n",
    "## Examine the structure of the file\n",
    "\n",
    "Before you can extraxt content from a XML file, you have to see what inside and how it is structured. \n",
    "\n",
    "```{admonition} Exercise\n",
    "Show the XML file in your Notebook\n",
    "```\n",
    "\n",
    "```{admonition} Solution\n",
    ":class: tip, dropdown\n",
    "\tprint(ET.tostring(root, encoding='utf8').decode('utf8'))\n",
    "```\n",
    "\n",
    "As you can see, this XML file has a lot more elements and attributes than our example file. \n",
    "Our goal is to extraxt the text from the news paper, to seperate the text into articles and to store them on our computer with the page number. \n",
    "\n",
    "So first, lets see if we can see where the textual content of the news paper is stored. \n",
    "\n",
    "```{admonition} Exercise\n",
    "Scroll through the XML file and see if you can find the element in which the text of the newspaper is stored. Hint: one of the news articles mentioned\n",
    "'olifant'. \n",
    "```\n",
    "\n",
    "```{admonition} Solution\n",
    ":class: tip, dropdown\n",
    "The content of the news paper articles is stored in the element 'ns0:String'\n",
    "\n",
    "\t<String ID=\"P3_ST00483\" HPOS=\"557\" VPOS=\"3994\" WIDTH=\"109\" HEIGHT=\"26\" CONTENT=\"olifant\" WC=\"0.99\" CC=\"6000010\"/>\n",
    "\t\n",
    "```\n",
    "\n",
    "```{admonition} Exercise\n",
    "If we compare the element 'String' to our example XML, we see that there is a difference in how the content is stored. What is the difference? \n",
    "```\n",
    "\n",
    "```{admonition} Solution\n",
    ":class: tip, dropdown\n",
    "The content of the elements of the example XML where stored als values from the elements. \n",
    "The content of the String element is stored in an attribute called 'CONTENT'. \n",
    "```\n",
    "\n",
    "```{admonition} Exercise\n",
    "There are a lot of nested element in this XML file. What are the parents, grand parents and grand grandparents of the 'String' element? Are their more parents than this?\n",
    "```\n",
    "\n",
    "```{admonition} Solution\n",
    ":class: tip, dropdown\n",
    "The parent of the 'String' element is 'Textline'\n",
    "The grandparent is 'TextBlock'\n",
    "The grandgrandparent is 'Page'.\n",
    "The complete line is alto/Layout/Page/TextBlock/Textline/String\n",
    "```\n",
    "Now we know some first important information about this Alto file, so let's see if we can extract the content. \n",
    "\n",
    "## Extract the plain text\n",
    "\n",
    "We will start by extracting all the text, without worrying about the division between the articles. \n",
    "\n",
    "```{admonition} Exercise\n",
    "As you have seen, the plain text of the news paper is stored in the 'CONTENT' attribute of the 'String' element. How can you extract the values from attributes?\n",
    "```\n",
    "\n",
    "```{admonition} Solution\n",
    ":class: tip, dropdown\n",
    "This can be done with the .get method, for example: book.get('id'). \n",
    "```\n",
    "\n",
    "\n",
    "\n",
    "\n",
    "\n",
    "# This is old stuff!\n",
    "\n",
    "\n",
    "\n",
    "\n",
    "\n",
    "\n",
    "\n",
    "\n",
    "\n",
    "\n",
    "\n",
    "```{admonition} Exercise\n",
    ":class: attention\n",
    "Look at the XML structure. Which elements do we need do find the title and the description?\n",
    "```\n",
    "\n",
    "\n",
    "```{admonition} Solution\n",
    ":class: tip, dropdown\n",
    "We need the child element 'book', and his subchildren 'title' and 'description'. \n",
    "```\n",
    "\n",
    "First, type the following code in your Jupyter Notebook to get the title from every book:"
   ]
  },
  {
   "cell_type": "code",
   "execution_count": 1,
   "id": "d3026ba1",
   "metadata": {
    "tags": [
     "hide-output"
    ]
   },
   "outputs": [
    {
     "ename": "NameError",
     "evalue": "name 'root' is not defined",
     "output_type": "error",
     "traceback": [
      "\u001b[1;31m---------------------------------------------------------------------------\u001b[0m",
      "\u001b[1;31mNameError\u001b[0m                                 Traceback (most recent call last)",
      "Input \u001b[1;32mIn [1]\u001b[0m, in \u001b[0;36m<cell line: 2>\u001b[1;34m()\u001b[0m\n\u001b[0;32m      1\u001b[0m \u001b[38;5;66;03m# This cell should have its output hidden!\u001b[39;00m\n\u001b[1;32m----> 2\u001b[0m \u001b[38;5;28;01mfor\u001b[39;00m book \u001b[38;5;129;01min\u001b[39;00m \u001b[43mroot\u001b[49m\u001b[38;5;241m.\u001b[39mfindall(\u001b[38;5;124m'\u001b[39m\u001b[38;5;124mbook\u001b[39m\u001b[38;5;124m'\u001b[39m):\n\u001b[0;32m      3\u001b[0m     title \u001b[38;5;241m=\u001b[39m book\u001b[38;5;241m.\u001b[39mfind(\u001b[38;5;124m'\u001b[39m\u001b[38;5;124mtitle\u001b[39m\u001b[38;5;124m'\u001b[39m)\u001b[38;5;241m.\u001b[39mtext\n\u001b[0;32m      4\u001b[0m     \u001b[38;5;28mprint\u001b[39m(title)\n",
      "\u001b[1;31mNameError\u001b[0m: name 'root' is not defined"
     ]
    }
   ],
   "source": [
    "# This cell should have its output hidden!\n",
    "for book in root.findall('book'):\n",
    "    title = book.find('title').text\n",
    "    print(title)"
   ]
  },
  {
   "cell_type": "markdown",
   "id": "e8bf6c3a",
   "metadata": {},
   "source": [
    "```{note}\n",
    "Explanation of the code.\n",
    "The line:\n",
    "\t```\n",
    "\tfor book in root.findall('book'):\n",
    "\t```\n",
    "starts loop that iterates through all 'book' elements in the XML. For each elements, it executes the rest of the code.\n",
    "\t```\t\n",
    "\ttitle = book.find('title').text\n",
    "\t```\n",
    "This line creates a new variabele called 'title'. The content of the variable is content from the XML. For every 'book' elements, it searchs for \n",
    "a child element with the name 'title'. Then, it extraxts the content from the title element. To extract contents from elements, we use .text. \n",
    "\t```\n",
    "\ttitle = book.find('title').text\n",
    "\t```\n",
    "This line displays the output. In this case, it shows the title of every book. \n",
    "```\n",
    "\t\n",
    "We can get the description of each book in the same way.\n",
    "\n",
    "```{admonition} Exercise\n",
    ":class: attention\n",
    "Alter the code above to retreive all the descriptions and print out the descriptions. \n",
    "```\n",
    "\n",
    "```{admonition} Solution\n",
    ":class: tip, dropdown\n",
    "\t\n",
    "\tfor book in root.findall('book'):\n",
    "\t\tdescription = book.find('description').text\n",
    "\t\tprint(description)\n",
    "\t\n",
    "```\n",
    "\n",
    "We can use one for loop to extract both the book title and description from the XML file. \n",
    "Combining multiple items is preferable because it save unnecessary lines of codes and merges the part of code which does the same thing.\n",
    "This makes the code more readable and maintainable. \n",
    "\n",
    "Combining the two codes above leads to the following code:"
   ]
  },
  {
   "cell_type": "code",
   "execution_count": null,
   "id": "20f98363",
   "metadata": {
    "tags": [
     "hide-output"
    ]
   },
   "outputs": [],
   "source": [
    "# This cell should have its output hidden!\n",
    "for book in root.findall('book'):\n",
    "\ttitle = book.find('title').text\n",
    "\tdescription = book.find('description').text\n",
    "\tprint(title, description)"
   ]
  },
  {
   "cell_type": "markdown",
   "id": "ee768f10",
   "metadata": {},
   "source": [
    "## Extract name and surname of the author\n",
    "You can use the same method as described above to extraxt all names and surname from the authors from the XML. \n",
    "However, if we look at the structure of the xml file, there is a different between the place of the elements 'title' and 'description'\n",
    "and the elements 'name' and 'surname'. \n",
    "\n",
    "```\n",
    "<catalog>\n",
    "\t<book id=\"bk101\">\n",
    "\t\t<author>\n",
    "\t\t\t<name>Matthew</name>\n",
    "\t\t\t<surname>Gambardella</surname>\n",
    "\t\t</author>\n",
    "\t\t<title>XML Developer's Guide</title>\n",
    "\t\t<genre>Computer</genre>\n",
    "\t\t<price>44.95</price>\n",
    "\t\t<publish_date>2000-10-01</publish_date>\n",
    "\t\t<description>An in-depth look at creating applications with XML.</description>\n",
    "   </book>\n",
    "```\n",
    "\n",
    "\n",
    "```{admonition} Exercise\n",
    ":class: attention\n",
    "Look at the XML snippet above. What is the difference between the element 'title' and the element 'name'?\n",
    "```\n",
    "\n",
    "```{admonition} Solution\n",
    ":class: tip, dropdown\n",
    "\t\n",
    "The element 'title' is a child of the element 'book'. \n",
    "The element 'name' however, is a child of the element 'author' and a *sub*child of the element 'book'. \n",
    "\t\n",
    "```\n",
    "\n",
    "Because of the difference between the place of the elements, we need to alter our code a bit. Instead of one for loop, that iterates through all the 'book' elements, \n",
    "we also need a for loop that runs through the 'author' element of book. We can do this with the following code:"
   ]
  },
  {
   "cell_type": "code",
   "execution_count": null,
   "id": "b4ce4cdf",
   "metadata": {
    "tags": [
     "hide-output"
    ]
   },
   "outputs": [],
   "source": [
    "# This cell should have its output hidden!\n",
    "for book in root.findall('book'):\n",
    "    for author in book.findall('author'):\n",
    "        name = author.find('name').text\n",
    "        print(name) "
   ]
  },
  {
   "cell_type": "markdown",
   "id": "e2e612ca",
   "metadata": {},
   "source": [
    "```{admonition} Exercise\n",
    ":class: attention\n",
    "The above code extraxts only the name of an author. Alter the code, so that it extracts both the name and the surname. \n",
    "```\n",
    "\n",
    "```{admonition} Solution\n",
    ":class: tip, dropdown\n",
    "\tfor book in root.findall('book'):\n",
    "\t\tfor author in book.findall('author'):\n",
    "\t\t\tname = author.find('name').text\n",
    "\t\t\tsurname = author.find('surname').text\n",
    "\t\t\tprint(name, surname) \n",
    "\t\n",
    "```\n",
    "\n",
    "## Extraxt the book identifier\n",
    "\n",
    "As you can see in the XML, each book has its own ***identifier***. As books can have the same name, and authors can have written multiple books, it \n",
    "is good practise to always use the identifier to point to a specific item. \n",
    "\n",
    "In the previous exercises, we extracted the content that was presented between the tags of an element.\n",
    "For example:\n",
    "\n",
    "\n",
    "```\n",
    "<title>XML Developers Guide</title>\n",
    "```\n",
    "\n",
    "In this example, you see that the title 'XML Developer's guide' is stored between the tags <title> and </title>. We extracted this content by adding '.text'. \n",
    "\n",
    "```{admonition} Exercise\n",
    ":class: attention\n",
    "Look at this example of the 'book' element with its identifier. What is the difference between the place of the content of the identifier and the\n",
    "place of the content of the title?\n",
    "\t```\n",
    "\t\t<book id=\"bk101\">\n",
    "\t\t</book>\n",
    "\t```\n",
    "```\n",
    "\n",
    "```{admonition} Solution\n",
    ":class: tip, dropdown\n",
    "The content of the identifier is stored in an *atrribute* of the 'book' element, with the name 'id'. \n",
    "\t\n",
    "```\n",
    "\n",
    "To extract content from attributes, we need to use a 'get' method. \n",
    "We still use the for loop to iterate through all the books, but instead of the content of certain elements, we now extract the content of the attribute."
   ]
  },
  {
   "cell_type": "code",
   "execution_count": null,
   "id": "58574a50",
   "metadata": {
    "tags": [
     "hide-output"
    ]
   },
   "outputs": [],
   "source": [
    "# This cell should have its output hidden!\n",
    "for book in root.findall('book'):\n",
    "    identifier = book.get('id')\n",
    "    print(identifier)"
   ]
  },
  {
   "cell_type": "markdown",
   "id": "18e8cc04",
   "metadata": {},
   "source": [
    "## Structure all information\n",
    "\n",
    "We can combine the different codes we use above into one cell. \n",
    "Therefore, we can use the following scheme:\n",
    "\n",
    "```\n",
    "Iterate through all books\t\n",
    "\tGet content from id attribute\n",
    "\tGet title content\t\n",
    "\tGet description content\t\n",
    "\tIterate through all authors\n",
    "\t\tGet name\n",
    "\t\tGet surname\n",
    "\tPrint id, title, description, name and surname\n",
    "```\n",
    "\n",
    "```{admonition} Exercise\n",
    ":class: attention\n",
    "Create the code that extraxts all information we used so far, from every book. And print this information (see scheme above). \n",
    "```\n",
    "\n",
    "```{admonition} Solution\n",
    ":class: tip, dropdown\n",
    "\tfor book in root.findall('book'):\n",
    "\t\tidentifier = book.get('id')\n",
    "\t\ttitle = book.find('title').text\n",
    "\t\tdescription = book.find('description').text\n",
    "\t\tfor author in book.findall('author'):\n",
    "\t\t\tname = author.find('name').text\n",
    "\t\t\tsurname = author.find('surname').text\n",
    "\t\tprint(identifier, title, description, name, surname)\n",
    "```\t\n",
    "\n",
    "This leads to the following output:"
   ]
  },
  {
   "cell_type": "code",
   "execution_count": null,
   "id": "7fd0cb44",
   "metadata": {
    "tags": [
     "hide-input"
    ]
   },
   "outputs": [],
   "source": [
    "# This cell should have its input hidden!\n",
    "for book in root.findall('book'):\n",
    "\tidentifier = book.get('id')\n",
    "\ttitle = book.find('title').text\n",
    "\tdescription = book.find('description').text\n",
    "\tfor author in book.findall('author'):\n",
    "\t\tname = author.find('name').text\n",
    "\t\tsurname = author.find('surname').text\n",
    "\tprint(identifier, title, description, name, surname)"
   ]
  },
  {
   "cell_type": "markdown",
   "id": "93c20788",
   "metadata": {},
   "source": [
    "As you can see, it displays all information we wanted, but the output is quite unreadable. For example, it is not clear which part of the content belongs\n",
    "to the title, and which to the description. \n",
    "\n",
    "To make the output more readable, we can put text before our output variabelen. In Python, this can be done like this:\n",
    "```\n",
    "print(f\"This is the string we type and {this_is_the_variable}\")\n",
    "```\n",
    "\n",
    "So in our example, this leads to:"
   ]
  },
  {
   "cell_type": "code",
   "execution_count": null,
   "id": "9f5a26ea",
   "metadata": {
    "tags": [
     "hide-output"
    ]
   },
   "outputs": [],
   "source": [
    "# This cell should have its input hidden!\n",
    "for book in root.findall('book'):\n",
    "    identifier = book.get('id')\n",
    "    title = book.find('title').text\n",
    "    description = book.find('description').text\n",
    "    for author in book.findall('author'):\n",
    "        name = author.find('name').text\n",
    "        surname = author.find('surname').text\n",
    "    print(f\"Identifier= {identifier } title= {title} description= {description} name= {name} {surname}\")"
   ]
  },
  {
   "cell_type": "markdown",
   "id": "be34c4d8",
   "metadata": {},
   "source": [
    "As you can see, we can now detect the various parts that we extracted. However, it is still not easy to read.\n",
    "To resolve this, we can add linebreaks between each variable and between the different books. We add a line break by adding '\\n' after each variable, \n",
    "leading to the following code:"
   ]
  },
  {
   "cell_type": "code",
   "execution_count": null,
   "id": "5bbfec41",
   "metadata": {
    "tags": [
     "hide-output"
    ]
   },
   "outputs": [],
   "source": [
    "# This cell should have its input hidden!\n",
    "for book in root.findall('book'):\n",
    "    identifier = book.get('id')\n",
    "    title = book.find('title').text\n",
    "    description = book.find('description').text\n",
    "    for author in book.findall('author'):\n",
    "        name = author.find('name').text\n",
    "        surname = author.find('surname').text\n",
    "    print(f\"Identifier= {identifier }\\n title= {title}\\n description= {description} \\n name= {name} {surname}\\n\")"
   ]
  },
  {
   "cell_type": "markdown",
   "id": "ddb63bc3",
   "metadata": {},
   "source": [
    "Well, that output looks way better, doesn't it?\n",
    "\n",
    "## Store the information in a .csv or .txt file.\n",
    "We show you how to store the output in two different ways:\n",
    "- as one file with the information of all books in .csv format (which, for example, can be opened in Excel)\n",
    "- as one textfile per book. \n",
    "\n",
    "### Store in one file\n",
    "The easiest way to store and save Python output in one file is through storing it in a datframe from the Python package 'Pandas' and then save this frame. \n",
    "You can add data directly from the for loops we created above in a pandas dataframe, but we prefer the method in which you first create a list and then transform\n",
    "this list in the output, as Pandas DataFrame execution can become fairly slow with large amounts of data. \n",
    "\n",
    "To create a list, we first have to declare an empty list. This is done with the following syntax:\n",
    "```\n",
    "booklist = []\n",
    "```\n",
    "\n",
    "Now, we alter our for loop a bit. Instead of printing the output to the screen, as we did above, we store our output in a list. \n",
    "We therefor use the following code:"
   ]
  },
  {
   "cell_type": "code",
   "execution_count": null,
   "id": "cafae6b1",
   "metadata": {
    "tags": [
     "hide-output"
    ]
   },
   "outputs": [],
   "source": [
    "# This cell should have its input hidden!\n",
    "booklist = []\n",
    "\n",
    "for book in root.findall('book'):\n",
    "    identifier = book.get('id')\n",
    "    title = book.find('title').text\n",
    "    description = book.find('description').text\n",
    "    for author in book.findall('author'):\n",
    "        name = author.find('name').text\n",
    "        surname = author.find('surname').text\n",
    "    booklist.append([identifier, title, description, name+\" \"+surname])"
   ]
  },
  {
   "cell_type": "markdown",
   "id": "c59d09c6",
   "metadata": {},
   "source": [
    "This leads to a list, called 'booklist', in which for every book all information is stored. \n",
    "\n",
    "We can then easily transform this list to a pandas DataFrame. \n",
    "To do so, we need to import pandas first with the comment\n",
    "```\n",
    "import pandas as pd\n",
    "```\n",
    "\n",
    "Then we type:\n",
    "``` \n",
    "books = pd.DataFrame(booklist, columns=(\"identifier\", \"title\", \"description\", \"name\")\n",
    "```\n",
    "\n",
    "This code works as follows. You declare the variable 'books', which wil be used to store all the information.\n",
    "Then you let Python know that you want to create a DataFrame. The content of this dataframe is the list 'booklist', which we just created. \n",
    "We then tell Python what we want the name of all columns to be (this is in the same order as the order of the variables in the list). \n",
    "\n",
    "You can show the dataframe you just created by typing:\n",
    "``` \n",
    "books\n",
    "```\n",
    "\n",
    "This results in the following output:"
   ]
  },
  {
   "cell_type": "code",
   "execution_count": null,
   "id": "22d729fe",
   "metadata": {
    "tags": [
     "hide-input"
    ]
   },
   "outputs": [],
   "source": [
    "# This cell should have its input hidden!\n",
    "import pandas as pd\n",
    "books = pd.DataFrame(booklist, columns={\"identifier\",\"title\", \"description\", \"name\"})\n",
    "books"
   ]
  },
  {
   "cell_type": "markdown",
   "id": "c0111a64",
   "metadata": {},
   "source": [
    "Now we can save this dataframe into a csv file by typing:\n",
    "```\n",
    "books.to_csv('book.csv')\n",
    "``` \n",
    "### Create a textfile per book\n",
    "\n",
    "If you want to create a textfile for every book, you can add the code directly in your for loop. \n",
    "\n",
    "First, you have to declare a textfile in Python and give it a name. Then, you can open the file and write content to it. After this, you close the file. \n",
    "You can try this with the following code:\n",
    "\n",
    "```\n",
    "myfile = open('test.txt', 'w')\n",
    "myfile.write('This is just a test file')\n",
    "myfile.close()\n",
    "```\n",
    "\n",
    "```{note}\n",
    "By default, Python stores the text file in the same folder as where you run your Jupyter Notebook. You can alter this by adding a path to your textfile, for example:\n",
    "``` myfile = open('C:/Users/Documents/test.txt', 'w') ```\n",
    "Please remember to use a backward slash (/) between the folders\n",
    "```\n",
    "\n",
    "With a few alterations, we can use this code to save our book information per file. \n",
    "First, we give the textfile the name of the book identifier. we can do that by adding the variable into the name of the file like this:\n",
    "```\n",
    " myfile = open(identifier+'.txt', 'w')\n",
    "```\n",
    "\n",
    "Then, we create the content of the file based on the content we exracted from the book. \n",
    "```\n",
    "myfile.write(name+\" \"+surname + \"\\n\" + title + \"\\n\" + description)\n",
    "```\n",
    "\n",
    "If we put these line into our for loop, Python will save every book with its own name and own information. \n",
    "This code looks like this:\n",
    "```\n",
    "for book in root.findall('book'):\n",
    "    identifier = book.get('id')\n",
    "    title = book.find('title').text\n",
    "    description = book.find('description').text\n",
    "    for author in book.findall('author'):\n",
    "        name = author.find('name').text\n",
    "        surname = author.find('surname').text\n",
    "    myfile = open(identifier+'.txt', 'w')\n",
    "    myfile.write(name+surname + \"\\n\" + title + \"\\n\" + description)\n",
    "    myfile.close()\n",
    "```\n",
    "\n",
    "## Extra: Filter information\n",
    "\n",
    "You can also search for specific elements in you XML. For example, only the title information from the book 'bk109'.\n",
    "To do so, you can start with the same for loop as we created in this lessons. However, before you print the output, you first check\n",
    "if you have the element you want (in this case: book 109). This can be done with an 'if' statement and it looks like this:"
   ]
  },
  {
   "cell_type": "code",
   "execution_count": null,
   "id": "1f087500",
   "metadata": {},
   "outputs": [],
   "source": [
    "for book in root.findall('book'):\n",
    "    if book.attrib['id']==\"bk109\":\n",
    "        title = book.find('title').text\n",
    "        print(title)"
   ]
  },
  {
   "cell_type": "markdown",
   "id": "6eb4dc13",
   "metadata": {},
   "source": [
    "You can also search the content from xml elements, searching the content for a match. For example, if we want to print all title that contain the word 'XML', \n",
    "we can use the following code:"
   ]
  },
  {
   "cell_type": "code",
   "execution_count": null,
   "id": "4ba4e4df",
   "metadata": {},
   "outputs": [],
   "source": [
    "for book in root.findall('book'):\n",
    "    title = book.find('title').text\n",
    "    if \"XML\" in title:\n",
    "        print(title)"
   ]
  },
  {
   "cell_type": "markdown",
   "id": "dc333662",
   "metadata": {},
   "source": [
    "```{note}\n",
    "Strings in Python are capital senstive! This means that 'XML' is not equal to 'xml' or 'Xml' in Python. \n",
    "```\n",
    "\n",
    "\n",
    "```{admonition} Exercise\n",
    ":class: attention\n",
    "Print out the title of all books that have England in their description. \n",
    "```\n",
    "\n",
    "```{admonition} Solution\n",
    ":class: tip, dropdown\n",
    "\tfor book in root.findall('book'):\n",
    "\t\tdescription = book.find('description').text\n",
    "\t\tif \"England\" in description:\n",
    "\t\t\tprint(book.find('description').text)\n",
    "```"
   ]
  }
 ],
 "metadata": {
  "jupytext": {
   "cell_metadata_filter": "-all",
   "formats": "md:myst",
   "text_representation": {
    "extension": ".md",
    "format_name": "myst",
    "format_version": 0.13,
    "jupytext_version": "1.11.5"
   }
  },
  "kernelspec": {
   "display_name": "Python 3",
   "language": "python",
   "name": "python3"
  },
  "language_info": {
   "codemirror_mode": {
    "name": "ipython",
    "version": 3
   },
   "file_extension": ".py",
   "mimetype": "text/x-python",
   "name": "python",
   "nbconvert_exporter": "python",
   "pygments_lexer": "ipython3",
   "version": "3.9.12"
  },
  "source_map": [
   14,
   142,
   149,
   191,
   200,
   239,
   247,
   298,
   306,
   343,
   356,
   368,
   380,
   386,
   399,
   420,
   434,
   458,
   465,
   522,
   527,
   532,
   537
  ]
 },
 "nbformat": 4,
 "nbformat_minor": 5
}