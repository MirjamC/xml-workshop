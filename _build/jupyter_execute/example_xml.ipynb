{
 "cells": [
  {
   "cell_type": "markdown",
   "id": "cd7e4ac3",
   "metadata": {},
   "source": [
    "# Lesson ?: Practical session: Working with XMLX, ElemenTree and Beautiful Soup\n",
    "\n",
    "In this lesson, we are going to explore how the different packages work. We use the same example file that was used in lesson 2 (click here to download the file).\n",
    "\n",
    "\n",
    "This lesson is divided intro three sessions, where every session works with one of the Python packages that was introduced in lesson ?.\n",
    "With every package, we follow these steps:\n",
    "- Open the XML file\n",
    "- Display the structure of the XML file\n",
    "- Extraxt the booktitles\n",
    "- Extract name and surname of the author\n",
    "- Store the information in a .csv of .txt file\n",
    "\n",
    "## ?a: The ElemenTree\n",
    "\n",
    "ElemenTree is part of the standard library and therefore does not need to be installed.\n",
    "\n",
    "Before we can use the package, we have to let Python know we want to use it. We do this by importing the package.\n",
    "Type in a code cell:"
   ]
  },
  {
   "cell_type": "code",
   "execution_count": 1,
   "id": "8ddc90e2",
   "metadata": {},
   "outputs": [],
   "source": [
    "import xml.etree.ElementTree as ET"
   ]
  },
  {
   "cell_type": "markdown",
   "id": "e9f4eaba",
   "metadata": {},
   "source": [
    "Now, we want to open the XML file from which we want to extract information. \n",
    "Add a new code cell and type:"
   ]
  },
  {
   "cell_type": "code",
   "execution_count": 2,
   "id": "5c3336c4",
   "metadata": {},
   "outputs": [
    {
     "ename": "FileNotFoundError",
     "evalue": "[Errno 2] No such file or directory: 'path_to_file/name_file.xml'",
     "output_type": "error",
     "traceback": [
      "\u001b[1;31m---------------------------------------------------------------------------\u001b[0m",
      "\u001b[1;31mFileNotFoundError\u001b[0m                         Traceback (most recent call last)",
      "Input \u001b[1;32mIn [2]\u001b[0m, in \u001b[0;36m<cell line: 1>\u001b[1;34m()\u001b[0m\n\u001b[1;32m----> 1\u001b[0m tree \u001b[38;5;241m=\u001b[39m \u001b[43mET\u001b[49m\u001b[38;5;241;43m.\u001b[39;49m\u001b[43mparse\u001b[49m\u001b[43m(\u001b[49m\u001b[38;5;124;43m'\u001b[39;49m\u001b[38;5;124;43mpath_to_file/name_file.xml\u001b[39;49m\u001b[38;5;124;43m'\u001b[39;49m\u001b[43m)\u001b[49m\n\u001b[0;32m      2\u001b[0m root \u001b[38;5;241m=\u001b[39m tree\u001b[38;5;241m.\u001b[39mgetroot()\n",
      "File \u001b[1;32m~\\anaconda3\\lib\\xml\\etree\\ElementTree.py:1229\u001b[0m, in \u001b[0;36mparse\u001b[1;34m(source, parser)\u001b[0m\n\u001b[0;32m   1220\u001b[0m \u001b[38;5;124;03m\"\"\"Parse XML document into element tree.\u001b[39;00m\n\u001b[0;32m   1221\u001b[0m \n\u001b[0;32m   1222\u001b[0m \u001b[38;5;124;03m*source* is a filename or file object containing XML data,\u001b[39;00m\n\u001b[1;32m   (...)\u001b[0m\n\u001b[0;32m   1226\u001b[0m \n\u001b[0;32m   1227\u001b[0m \u001b[38;5;124;03m\"\"\"\u001b[39;00m\n\u001b[0;32m   1228\u001b[0m tree \u001b[38;5;241m=\u001b[39m ElementTree()\n\u001b[1;32m-> 1229\u001b[0m \u001b[43mtree\u001b[49m\u001b[38;5;241;43m.\u001b[39;49m\u001b[43mparse\u001b[49m\u001b[43m(\u001b[49m\u001b[43msource\u001b[49m\u001b[43m,\u001b[49m\u001b[43m \u001b[49m\u001b[43mparser\u001b[49m\u001b[43m)\u001b[49m\n\u001b[0;32m   1230\u001b[0m \u001b[38;5;28;01mreturn\u001b[39;00m tree\n",
      "File \u001b[1;32m~\\anaconda3\\lib\\xml\\etree\\ElementTree.py:569\u001b[0m, in \u001b[0;36mElementTree.parse\u001b[1;34m(self, source, parser)\u001b[0m\n\u001b[0;32m    567\u001b[0m close_source \u001b[38;5;241m=\u001b[39m \u001b[38;5;28;01mFalse\u001b[39;00m\n\u001b[0;32m    568\u001b[0m \u001b[38;5;28;01mif\u001b[39;00m \u001b[38;5;129;01mnot\u001b[39;00m \u001b[38;5;28mhasattr\u001b[39m(source, \u001b[38;5;124m\"\u001b[39m\u001b[38;5;124mread\u001b[39m\u001b[38;5;124m\"\u001b[39m):\n\u001b[1;32m--> 569\u001b[0m     source \u001b[38;5;241m=\u001b[39m \u001b[38;5;28;43mopen\u001b[39;49m\u001b[43m(\u001b[49m\u001b[43msource\u001b[49m\u001b[43m,\u001b[49m\u001b[43m \u001b[49m\u001b[38;5;124;43m\"\u001b[39;49m\u001b[38;5;124;43mrb\u001b[39;49m\u001b[38;5;124;43m\"\u001b[39;49m\u001b[43m)\u001b[49m\n\u001b[0;32m    570\u001b[0m     close_source \u001b[38;5;241m=\u001b[39m \u001b[38;5;28;01mTrue\u001b[39;00m\n\u001b[0;32m    571\u001b[0m \u001b[38;5;28;01mtry\u001b[39;00m:\n",
      "\u001b[1;31mFileNotFoundError\u001b[0m: [Errno 2] No such file or directory: 'path_to_file/name_file.xml'"
     ]
    }
   ],
   "source": [
    "tree = ET.parse('path_to_file/name_file.xml')\n",
    "root = tree.getroot()"
   ]
  },
  {
   "cell_type": "markdown",
   "id": "4e130480",
   "metadata": {},
   "source": [
    "```{note}\n",
    "In the code above, alter the 'path_to_file/name_file' with the path to the folder and the filename. \n",
    "For example: D:\\Projects\\XML workshop\\data\\example.xml \n",
    "```\n",
    "\n",
    "When you want to extract information from an XML file, it is important that you are familair with the structure of the file. \n",
    "There are two ways to do this."
   ]
  }
 ],
 "metadata": {
  "jupytext": {
   "cell_metadata_filter": "-all",
   "formats": "md:myst",
   "text_representation": {
    "extension": ".md",
    "format_name": "myst",
    "format_version": 0.13,
    "jupytext_version": "1.11.5"
   }
  },
  "kernelspec": {
   "display_name": "Python 3",
   "language": "python",
   "name": "python3"
  },
  "language_info": {
   "codemirror_mode": {
    "name": "ipython",
    "version": 3
   },
   "file_extension": ".py",
   "mimetype": "text/x-python",
   "name": "python",
   "nbconvert_exporter": "python",
   "pygments_lexer": "ipython3",
   "version": "3.9.12"
  },
  "source_map": [
   14,
   38,
   40,
   45,
   48
  ]
 },
 "nbformat": 4,
 "nbformat_minor": 5
}