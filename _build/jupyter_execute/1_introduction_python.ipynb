{
 "cells": [
  {
   "cell_type": "markdown",
   "id": "f95de798",
   "metadata": {},
   "source": [
    "# 1. Introduction to Python and Jupyter Notebooks\n",
    "\n",
    "To add: how to open a Jupyter Notebook with a screenshot of how it looks. \n",
    "\n",
    "A Notebook is not a static webpage, but an interactive enviroment. Within the blocks (cells) of a Notebook code can be written ánd executed.\n",
    "\n",
    "This Notebook will give a short introduction on how to work with Notebook in combination with Python.\n",
    "\n",
    "## How does a Notebook work?\n",
    "\n",
    "### Different cells\n",
    "\n",
    "Notebooks are comprimised of different types of cells. The cell containing this text is a *textcel*. Text cells are generally used for descriptions and explantions. \n",
    "\n",
    "The layout is managed through *markdown* (see [markdown syntax](https://www.markdownguide.org/basic-syntax/) for more information).\n",
    "\n",
    "The second main type of cell is the code cell. Such as teh example below:"
   ]
  },
  {
   "cell_type": "code",
   "execution_count": 1,
   "id": "d6b61ca1",
   "metadata": {},
   "outputs": [
    {
     "data": {
      "text/plain": [
       "16"
      ]
     },
     "execution_count": 1,
     "metadata": {},
     "output_type": "execute_result"
    }
   ],
   "source": [
    "2*8"
   ]
  },
  {
   "cell_type": "markdown",
   "id": "2c4ae770",
   "metadata": {},
   "source": [
    "Code cells are used to write and execute code. In our case Python. When a code cell is run, Python will execute the code in the cell.\n",
    "\n",
    "There are multiple ways to run a cell:\n",
    "* By clicking the 'Run' button bovenaan te klikken;\n",
    "* By pressing 'shift + enter when the cell is selected (green frame)'\n",
    "\n",
    "The moment a cell generates *output* the output is displayed beneath the cell, keeping code and output together.\n",
    "\n",
    "**Assignment:** run the code cell above and look at the output.\n",
    "\n",
    "### Comments\n",
    "\n",
    "Comments can be added to a code cell. Comments can be used to describe what a piece of code does, or can be used to tell where values can be changed."
   ]
  },
  {
   "cell_type": "code",
   "execution_count": 2,
   "id": "a21df8b0",
   "metadata": {},
   "outputs": [],
   "source": [
    "# This is an example of a comment in a code cell."
   ]
  },
  {
   "cell_type": "markdown",
   "id": "31d53ab8",
   "metadata": {},
   "source": [
    "The moment a # is typed in a code cell, everything after it will be regarded as a comment. Lines that have been marked as a comment will **not** be executed by Python when the cell is run.\n",
    "\n",
    "**Assignment:** run the cell below. Does Python return output?"
   ]
  },
  {
   "cell_type": "code",
   "execution_count": 3,
   "id": "00516f48",
   "metadata": {},
   "outputs": [],
   "source": [
    "#print(\"The solution to 35+12 is:\")\n",
    "#print(35+12)"
   ]
  },
  {
   "cell_type": "markdown",
   "id": "2363b78f",
   "metadata": {},
   "source": [
    "When the **#** is removed and the cell is run again, Python wil recognize the code and execute it.\n",
    "\n",
    "**Assignment:** Ensure that Python executes the code and run the cell again.\n",
    "\n",
    "## Python\n",
    "\n",
    "Below will follow a short introduction of Python. \n",
    "Python was developed in 1991 by Guido van Rossum. The purpose of Python was to create a programming language that is both simple to understand and readable.  Python is open source, and can be used for free.\n",
    "\n",
    "### Input en variables\n",
    "\n",
    "When using Python there are multiple types of input data, such as lists, numbers, text, and even whole tables.\n",
    "We put this input into *variables*. Essentially a container for the data. The name of a variable is up to your own discretion, although there are some [rules and guidlines](https://www.w3schools.com/python/gloss_python_variable_names.asp). \n",
    "\n",
    "Python remembers which input was loaded into which variable. This means that the variables can be used in the code instead of the data itself.\n",
    "\n",
    "It is important to input data correctly, for numbers *no* quotation marks are used, for text quotation marks *must be* used!\n",
    "\n",
    "The command *type()* can be used to determine what type of input a variable contains. \n",
    "\n",
    "*int* indicates a variable contains an integer, or whole number\n",
    "*str* indicates a variable contains a string, a piece of text. \n",
    "\n",
    "**Assignment** Run the cell below"
   ]
  },
  {
   "cell_type": "code",
   "execution_count": 4,
   "id": "71a0afb2",
   "metadata": {},
   "outputs": [],
   "source": [
    "number = 9\n",
    "text = \"this is a text\""
   ]
  },
  {
   "cell_type": "code",
   "execution_count": 5,
   "id": "54401bba",
   "metadata": {},
   "outputs": [
    {
     "data": {
      "text/plain": [
       "int"
      ]
     },
     "execution_count": 5,
     "metadata": {},
     "output_type": "execute_result"
    }
   ],
   "source": [
    "type(number)"
   ]
  },
  {
   "cell_type": "code",
   "execution_count": 6,
   "id": "190cd02a",
   "metadata": {},
   "outputs": [
    {
     "data": {
      "text/plain": [
       "str"
      ]
     },
     "execution_count": 6,
     "metadata": {},
     "output_type": "execute_result"
    }
   ],
   "source": [
    "type(text)"
   ]
  },
  {
   "cell_type": "markdown",
   "id": "c168adc9",
   "metadata": {},
   "source": [
    "**Important!** If you input a number *with* quotation marks Python will see it as text!\n",
    "\n",
    "**Assignment:** Run the cell below"
   ]
  },
  {
   "cell_type": "code",
   "execution_count": 7,
   "id": "490f26b3",
   "metadata": {},
   "outputs": [],
   "source": [
    "number_but_wrong = \"9\""
   ]
  },
  {
   "cell_type": "code",
   "execution_count": 8,
   "id": "a148380f",
   "metadata": {},
   "outputs": [
    {
     "data": {
      "text/plain": [
       "str"
      ]
     },
     "execution_count": 8,
     "metadata": {},
     "output_type": "execute_result"
    }
   ],
   "source": [
    "type(number_but_wrong)"
   ]
  },
  {
   "cell_type": "markdown",
   "id": "87564337",
   "metadata": {},
   "source": [
    "As mentioned above it is possible to use previously assigned variables in your code. \n",
    "\n",
    "**Assignment:** Run the cell below"
   ]
  },
  {
   "cell_type": "code",
   "execution_count": 9,
   "id": "56dfb9d1",
   "metadata": {},
   "outputs": [
    {
     "data": {
      "text/plain": [
       "9"
      ]
     },
     "execution_count": 9,
     "metadata": {},
     "output_type": "execute_result"
    }
   ],
   "source": [
    "number_1 = 3\n",
    "number_2 = 6\n",
    "\n",
    "number_1 + number_2 "
   ]
  },
  {
   "cell_type": "markdown",
   "id": "0480e589",
   "metadata": {},
   "source": [
    "**Assignment:** Using Python, calculate the sum of \"35 + 69\" in teh cell below. Start with making two variables to assign the numbers *35* and *69* to. Calculate the sum using these variables."
   ]
  },
  {
   "cell_type": "code",
   "execution_count": 10,
   "id": "06f0be5d",
   "metadata": {},
   "outputs": [],
   "source": [
    "# Make a variable for the number 35\n",
    "\n",
    "\n",
    "# Make a variable for the number 69\n",
    "\n",
    "\n",
    "# Calculate the sum using the variables\n"
   ]
  },
  {
   "cell_type": "markdown",
   "id": "3f5b821b",
   "metadata": {},
   "source": [
    "The plus sign can be used to calculate sums, as you did in the above assignment. However, the plus sign can also be used to stick two different texts together. \n",
    "\n",
    "**Assignment:** run the cell below"
   ]
  },
  {
   "cell_type": "code",
   "execution_count": 11,
   "id": "a78f36fa",
   "metadata": {},
   "outputs": [
    {
     "data": {
      "text/plain": [
       "'This is a stuck together text'"
      ]
     },
     "execution_count": 11,
     "metadata": {},
     "output_type": "execute_result"
    }
   ],
   "source": [
    "line_1 = \"This is a \"\n",
    "line_2 = \"stuck together text\"\n",
    "\n",
    "line_1 + line_2"
   ]
  },
  {
   "cell_type": "markdown",
   "id": "de4804b0",
   "metadata": {},
   "source": [
    "**Assignment:** Ensure that the four lines below are printed as one sentence in the output."
   ]
  },
  {
   "cell_type": "code",
   "execution_count": 12,
   "id": "aeb0422c",
   "metadata": {},
   "outputs": [],
   "source": [
    "line_1 = \"Because of this Notebook \"\n",
    "line_2 = \"I now know \"\n",
    "line_3 = \"that programming with Python \"\n",
    "line_4 = \"is very fun!\"\n",
    "\n",
    "# Stick the lines together\n"
   ]
  },
  {
   "cell_type": "markdown",
   "id": "75885310",
   "metadata": {},
   "source": [
    "### Functions\n",
    "\n",
    "When you program in Python you will make use of functions. Apart from ready made functions from packages (see below) Python contains a lot of ready to use built-in functions. Saving us a lot of manual coding!\n",
    "\n",
    "Functions need to be passed one or more parameters as input. The syntax of a function is as follows: *functionname(parameters)*. When there are multiple parameters these are seperated with a comma.\n",
    "\n",
    "You can find some examples below.\n",
    "\n",
    "**Assignment:** Run the cells below"
   ]
  },
  {
   "cell_type": "code",
   "execution_count": 13,
   "id": "0df1d3e3",
   "metadata": {},
   "outputs": [
    {
     "data": {
      "text/plain": [
       "75"
      ]
     },
     "execution_count": 13,
     "metadata": {},
     "output_type": "execute_result"
    }
   ],
   "source": [
    "# Calculate the highest number using the max() function.\n",
    "max(5, 8, 35, 4, 75, 2)"
   ]
  },
  {
   "cell_type": "code",
   "execution_count": 14,
   "id": "6c4109ca",
   "metadata": {},
   "outputs": [
    {
     "data": {
      "text/plain": [
       "36.53"
      ]
     },
     "execution_count": 14,
     "metadata": {},
     "output_type": "execute_result"
    }
   ],
   "source": [
    "# Round a number using the round() function\n",
    "# The first parameter is the number to round\n",
    "# De second number is the required number of decimals. \n",
    "round(36.53343, 2)"
   ]
  },
  {
   "cell_type": "markdown",
   "id": "1c0a70da",
   "metadata": {},
   "source": [
    "**Assignment:** Calculate the *lowest* number using the function min(). This functions works similarly to the previously used max() function.\n",
    "Use the following numbers: 6, 24, 8, 2, 14."
   ]
  },
  {
   "cell_type": "code",
   "execution_count": 15,
   "id": "8285b2ad",
   "metadata": {},
   "outputs": [],
   "source": [
    "# Use this cell to calculate the lowest number using the min() function."
   ]
  },
  {
   "cell_type": "markdown",
   "id": "a220e3f5",
   "metadata": {},
   "source": [
    "### Packages\n",
    "\n",
    "The last important thing to know is that Python works with packages. A package is a collection of modules with predefined functions. These functions can than be used in your own code. Using packages can save a lot of programming work and enhances the functionality of base Python. Most Python programmers regularly use packages.\n",
    "\n",
    "Before using a Python package it needs to be *installed*. This preferably done using the command line but can also be done within your Jupyter Notebook.\n",
    "\n",
    "Afterwards the package needs to be *imported* into the Notebook. After importing the package is ready for use.\n",
    "\n",
    "Below you can find an example of installing, importing and using a package that measures the distances between two texts.\n",
    "\n",
    "**Assignment:** Run the cells below"
   ]
  },
  {
   "cell_type": "code",
   "execution_count": 16,
   "id": "3698f4c0",
   "metadata": {},
   "outputs": [
    {
     "name": "stdout",
     "output_type": "stream",
     "text": [
      "Requirement already satisfied: textdistance in c:\\users\\mirjam\\anaconda3\\lib\\site-packages (4.2.1)\n"
     ]
    }
   ],
   "source": [
    "# Install the package\n",
    "!pip install textdistance"
   ]
  },
  {
   "cell_type": "code",
   "execution_count": 17,
   "id": "b47d1734",
   "metadata": {},
   "outputs": [],
   "source": [
    "# Import the package\n",
    "import textdistance"
   ]
  },
  {
   "cell_type": "markdown",
   "id": "c848ed51",
   "metadata": {},
   "source": [
    "A package can be used in the same way as a function.\n",
    "In the case of the package used below, there are multiple methods for the calculation of the difference between texts. Among others there are the options 'hamming' and 'levenshtein'. The option that you want to use is added afte the name of the package. \n",
    "\n",
    "Syntax: *packagename.option(parameters)*\n",
    "\n",
    "**Assignment:** Run the cell below"
   ]
  },
  {
   "cell_type": "code",
   "execution_count": 18,
   "id": "5f3a482d",
   "metadata": {},
   "outputs": [
    {
     "data": {
      "text/plain": [
       "9"
      ]
     },
     "execution_count": 18,
     "metadata": {},
     "output_type": "execute_result"
    }
   ],
   "source": [
    "## Make two variables wit ha line of text.\n",
    "text1 = \"Lesser leather never weathered wetter weather better\"\n",
    "text2 = \"Lesser leather never weathered wethter weater better\"\n",
    "\n",
    "## Calculate the difference using the hamming option\n",
    "textdistance.hamming(text1, text2)"
   ]
  },
  {
   "cell_type": "markdown",
   "id": "42cdf875",
   "metadata": {},
   "source": [
    "**Assignment:** Calculate the difference between texts using the levenshtein option."
   ]
  },
  {
   "cell_type": "code",
   "execution_count": 19,
   "id": "e7c9176a",
   "metadata": {},
   "outputs": [],
   "source": [
    "## Calculate the difference using the levenshtein option\n"
   ]
  },
  {
   "cell_type": "markdown",
   "id": "f47ce9f5",
   "metadata": {},
   "source": [
    "**Assignemnt:** For this assignment you will combine the previous steps to use the package 'passwordmeter'. You will use this package to measure the strength of three passwords, and determine how they can be improved.\n",
    "\n",
    "You will test the following passwords: \n",
    "1: Welcome1234!\n",
    "2: idJH$ndjj165@&4SGDJEh\n",
    "3: PythonIsAweSome!?!\n",
    "\n",
    "To complete this assignemnt you will need to complete the following steps:\n",
    "* Install the package 'passwordmeter'\n",
    "* Import the package \n",
    "* Calculate the password strenght using the in-built function 'test' using the following syntax: *packagename.function(password)*"
   ]
  },
  {
   "cell_type": "code",
   "execution_count": 20,
   "id": "7306af81",
   "metadata": {},
   "outputs": [],
   "source": [
    "# Install the package\n"
   ]
  },
  {
   "cell_type": "code",
   "execution_count": 21,
   "id": "e89f4fc0",
   "metadata": {},
   "outputs": [],
   "source": [
    "# Import the package\n"
   ]
  },
  {
   "cell_type": "code",
   "execution_count": 22,
   "id": "3c5e5c2d",
   "metadata": {},
   "outputs": [],
   "source": [
    "# Check the strength of password 1 \n"
   ]
  },
  {
   "cell_type": "code",
   "execution_count": 23,
   "id": "6b05816b",
   "metadata": {},
   "outputs": [],
   "source": [
    "# Check the strength of password 2 \n"
   ]
  },
  {
   "cell_type": "code",
   "execution_count": 24,
   "id": "860a2180",
   "metadata": {},
   "outputs": [],
   "source": [
    "# Check the strength of password 3\n"
   ]
  },
  {
   "cell_type": "markdown",
   "id": "2b4b1eb6",
   "metadata": {},
   "source": [
    "## The End"
   ]
  }
 ],
 "metadata": {
  "jupytext": {
   "cell_metadata_filter": "-all",
   "formats": "md:myst",
   "text_representation": {
    "extension": ".md",
    "format_name": "myst",
    "format_version": 0.13,
    "jupytext_version": "1.11.5"
   }
  },
  "kernelspec": {
   "display_name": "Python 3",
   "language": "python",
   "name": "python3"
  },
  "language_info": {
   "codemirror_mode": {
    "name": "ipython",
    "version": 3
   },
   "file_extension": ".py",
   "mimetype": "text/x-python",
   "name": "python",
   "nbconvert_exporter": "python",
   "pygments_lexer": "ipython3",
   "version": "3.9.12"
  },
  "source_map": [
   14,
   35,
   37,
   54,
   57,
   64,
   68,
   96,
   103,
   109,
   112,
   120,
   126,
   129,
   137,
   143,
   149,
   159,
   166,
   172,
   178,
   187,
   200,
   207,
   213,
   220,
   223,
   238,
   245,
   249,
   259,
   267,
   273,
   277,
   293,
   300,
   307,
   314,
   321,
   325
  ]
 },
 "nbformat": 4,
 "nbformat_minor": 5
}