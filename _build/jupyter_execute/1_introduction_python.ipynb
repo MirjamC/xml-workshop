{
 "cells": [
  {
   "cell_type": "markdown",
   "id": "babc25e8",
   "metadata": {},
   "source": [
    "# 1. Introduction to Python and Jupyter Notebooks\n",
    "This lesson will give a short introduction on how to work with Notebooks in combination with Python. \n",
    "It consists of explanation followed by pratical exercises. To get the most out of this lesson it is best to manually type the code into your Jupyter Notebook instead of copy-pasting.\n",
    "\n",
    "## Notebooks\n",
    "First, lets start up Jupyter and open a Notebook.\n",
    "In the taskbar searchbox, type 'jupyter' and open *jupyter notebook*.\n",
    "This should open a tab in your browser with the jupyter hub in the installation folder. \n",
    "This folder will act as your home folder for jupyter.\n",
    "All Notebooks you make will be stored here unless explicitely saved elsewhere or moved.\n",
    "\n",
    "To open a new Python Jupyter Notebook click the **new** button in the topright corner and select **python3** from the dropdown list.\n",
    "A new tab should open dispaying your new Notebook, usually called *Untitled*\n",
    "\n",
    "Notebooks can be renamed by clicking on the name and typing a different name. It is best to make these names descriptive so they are still recognizable after a while. \n",
    "\n",
    "**To add:** screenshots \n",
    "\n",
    "## How does a Notebook work?\n",
    "\n",
    "A Notebook is not a static page, but an interactive enviroment. Within the blocks (cells) of a Notebook code can be written ánd executed.\n",
    "\n",
    "### Different cell types\n",
    "\n",
    "Notebooks are compromised of different types of cells. \n",
    "The main cell types are *text cells* and *code cells*.\n",
    "\n",
    "Text cells are generally used for descriptions and explanations. These cells are inactive and code written in these cells cannot be executed.\n",
    "\n",
    "**To add:** screenshot text cell\n",
    "\n",
    "The layout is managed through *markdown* (see [markdown syntax](https://www.markdownguide.org/basic-syntax/) for more information).\n",
    "\n",
    "The second main type of cell is the code cell. \n",
    "Code cells are used to write and execute code. In our case Python. When a code cell is run, Python will execute the code in the cell. More information about Python will follow in the next section.\n",
    "\n",
    "**To add:** screenshot code  cell\n",
    "\n",
    "Code cells are easily recognized by the 'In [ ]:' to the left of the cell.\n",
    "\n",
    "The type of a cell can be changed by selecting a cell and either going through the menu (Cell/Cell Type/<option>) or by selecting a cell and pressing either **Y** for a code cell or **M** for a text cell.\n",
    "\n",
    "**To add:** printscreen menu celltype\n",
    "\n",
    "```{admonition} Exercise\n",
    ":class: attention\n",
    "Select a cell in the Notebook and change the type by using the hotkeys or the menu. \n",
    "```\n",
    "\n",
    "### Running cells\n",
    "There are multiple ways to run a cell:\n",
    "* By clicking the 'Run' button in the taskbar;\n",
    "* By pressing 'shift + enter when the cell is selected (green frame)'\n",
    "\t*Note that this will add move the selection box down one cell. When the end of the cells is reached this will add new empty cells to the Notebook.*\n",
    "\n",
    "The moment a cell generates *output* the output is displayed beneath the cell, keeping code and output together.\n",
    "\n",
    "```{admonition} Exercise \n",
    ":class: attention\n",
    "Type the code below in a cell in your Notebook and run the cell.\n",
    "```"
   ]
  },
  {
   "cell_type": "code",
   "execution_count": 1,
   "id": "a8775ee0",
   "metadata": {},
   "outputs": [
    {
     "data": {
      "text/plain": [
       "16"
      ]
     },
     "execution_count": 1,
     "metadata": {},
     "output_type": "execute_result"
    }
   ],
   "source": [
    "2*8"
   ]
  },
  {
   "cell_type": "markdown",
   "id": "34362e57",
   "metadata": {},
   "source": [
    "### Adding new cells\n",
    "\n",
    "One cell is rarely enough to make a clearly structured Notebook. Adding more cells can be done by pressing the '+' button in the taskbar. \n",
    "\n",
    "**To add** printsscreen +\n",
    "\n",
    "This will add a new cell directly below the currently active cell.\n",
    "\n",
    "Another way is to use the menu 'Insert', where the choice is given between adding a cell above or below the current active cell.\n",
    "\n",
    "**To add** printscreen menu\n",
    "\n",
    "### Comments\n",
    "\n",
    "Comments can be added to a code cell. Comments can be used to describe what a piece of code does, or can be used to tell where values can be changed."
   ]
  },
  {
   "cell_type": "code",
   "execution_count": 2,
   "id": "43c8a5e6",
   "metadata": {},
   "outputs": [],
   "source": [
    "# This is an example of a comment in a code cell."
   ]
  },
  {
   "cell_type": "markdown",
   "id": "d085e64d",
   "metadata": {},
   "source": [
    "The moment a # is typed in a code cell, everything after it *on the same line* will be regarded as a comment. Lines that have been marked as a comment will **not** be executed by Python when the cell is run.\n",
    "\n",
    "```{admonition} Exercise \n",
    ":class: attention\n",
    "Type the code below in a cell in your Notebook and run the cell. Does Python return output?\n",
    "```"
   ]
  },
  {
   "cell_type": "code",
   "execution_count": 3,
   "id": "0bdcea2d",
   "metadata": {
    "tags": [
     "hide-output"
    ]
   },
   "outputs": [],
   "source": [
    "#print(\"The solution to 35+12 is:\")\n",
    "#print(35+12)"
   ]
  },
  {
   "cell_type": "markdown",
   "id": "10845414",
   "metadata": {},
   "source": [
    "```{admonition} Solution\n",
    ":class: tip, dropdown\n",
    "The cell should not return any output as the code is commented out by the #.\n",
    "```\n",
    "\n",
    "When the **#** is removed and the cell is run again, Python wil recognize the code and execute it.\n",
    "\n",
    "```{admonition} Exercise\n",
    ":class: attention\n",
    "Alter the cell so the code is no longer seen as a comment.\n",
    "```\n",
    "\n",
    "```{admonition} Solution\n",
    ":class: tip, dropdown\n",
    "Removing the # from the code should enable Python to recognize the code return output when the cell is run\n",
    "```"
   ]
  },
  {
   "cell_type": "code",
   "execution_count": 4,
   "id": "98eb936f",
   "metadata": {
    "tags": [
     "remove-input",
     "hide-output"
    ]
   },
   "outputs": [
    {
     "name": "stdout",
     "output_type": "stream",
     "text": [
      "The solution to 35+12 is: \n",
      "47\n"
     ]
    }
   ],
   "source": [
    "print(\"The solution to 35+12 is: \")\n",
    "print(35+12)"
   ]
  },
  {
   "cell_type": "markdown",
   "id": "ceb721bf",
   "metadata": {},
   "source": [
    "## Python\n",
    "\n",
    "Python was developed in 1991 by Guido van Rossum. The purpose of Python was to create a programming language that is both simple to understand and readable. Python works on different platforms such as Windowns, Mac, Linux, etc. It is a very popular programming language in data analysis and data science because of its versatality.\n",
    "Python is open source, and can be used for free.\n",
    "\n",
    "### Input and variables\n",
    "\n",
    "When using Python there are multiple types of input data, such as lists, numbers, text, and even whole tables.\n",
    "We put this input into *variables*. Essentially a container for the data. The name of a variable is up to your own discretion, although there are some [rules and guidlines](https://www.w3schools.com/python/gloss_python_variable_names.asp). \n",
    "\n",
    "Python remembers which input was loaded into which variable. This means that the variables can be used in the code instead of the data itself.\n",
    "\n",
    "It is important to input data correctly, for numbers *no* quotation marks are used, for text quotation marks *must be* used!\n",
    "\n",
    "The command *type()* can be used to determine what type of input a variable contains. \n",
    "\n",
    "*int* indicates a variable contains an integer, or whole number.\n",
    "*str* indicates a variable contains a string, a piece of text. \n",
    "\n",
    "```{admonition} Exercise\n",
    ":class: attention\n",
    "Type the code below in a cell in your Notebook and run the cell.\n",
    "```"
   ]
  },
  {
   "cell_type": "code",
   "execution_count": 5,
   "id": "094b8e9c",
   "metadata": {
    "tags": [
     "hide-output"
    ]
   },
   "outputs": [],
   "source": [
    "number = 9\n",
    "text = \"this is a text\""
   ]
  },
  {
   "cell_type": "code",
   "execution_count": 6,
   "id": "1ebe7d83",
   "metadata": {
    "tags": [
     "hide-output"
    ]
   },
   "outputs": [
    {
     "data": {
      "text/plain": [
       "int"
      ]
     },
     "execution_count": 6,
     "metadata": {},
     "output_type": "execute_result"
    }
   ],
   "source": [
    "type(number)"
   ]
  },
  {
   "cell_type": "code",
   "execution_count": 7,
   "id": "46df0707",
   "metadata": {
    "tags": [
     "hide-output"
    ]
   },
   "outputs": [
    {
     "data": {
      "text/plain": [
       "str"
      ]
     },
     "execution_count": 7,
     "metadata": {},
     "output_type": "execute_result"
    }
   ],
   "source": [
    "type(text)"
   ]
  },
  {
   "cell_type": "markdown",
   "id": "9675a89c",
   "metadata": {},
   "source": [
    "```{admonition} Note\n",
    "**Important!** If you input a number *with* quotation marks Python will see it as text!\n",
    "```\n",
    "\n",
    "```{admonition} Exercise \n",
    ":class: attention\n",
    "Type the code below in a cell in your Notebook and run the cell. What data type is the number?\n",
    "```"
   ]
  },
  {
   "cell_type": "code",
   "execution_count": 8,
   "id": "4e5ed3e3",
   "metadata": {
    "tags": [
     "hide-output"
    ]
   },
   "outputs": [
    {
     "data": {
      "text/plain": [
       "str"
      ]
     },
     "execution_count": 8,
     "metadata": {},
     "output_type": "execute_result"
    }
   ],
   "source": [
    "number_but_wrong = \"9\"\n",
    "type(number_but_wrong)"
   ]
  },
  {
   "cell_type": "markdown",
   "id": "59a5b8d7",
   "metadata": {},
   "source": [
    "```{admonition} Solution\n",
    ":class: tip, dropdown\n",
    "The cell should return 'str'. The number is seen as a string because of the quotation marks. Sometimes an error in the code is due to the wrong data type, checking data type is always a good start when error checking.\n",
    "```\n",
    "\n",
    "As mentioned above it is possible to use previously assigned variables in your code. \n",
    "This makes it possible to input a value just one time when it is needed more than once in the code.\n",
    "\n",
    "```{admonition} Exercise\n",
    ":class: attention\n",
    " Type the code below in a cell in your Notebook and run the cell.\n",
    "```"
   ]
  },
  {
   "cell_type": "code",
   "execution_count": 9,
   "id": "dff10a48",
   "metadata": {
    "tags": [
     "hide-output"
    ]
   },
   "outputs": [
    {
     "data": {
      "text/plain": [
       "9"
      ]
     },
     "execution_count": 9,
     "metadata": {},
     "output_type": "execute_result"
    }
   ],
   "source": [
    "number_1 = 3\n",
    "number_2 = 6\n",
    "\n",
    "number_1 + number_2 "
   ]
  },
  {
   "cell_type": "markdown",
   "id": "605fd626",
   "metadata": {},
   "source": [
    "Python simply adds the original numbers as it remembers which input belongs to which variable.\n",
    "\n",
    "```{admonition} Exercise\n",
    ":class: attention\n",
    "Using Python variables, calculate the sum of \"35 + 69\" in the cell below. Start with making two variables to assign the numbers *35* and *69* to. Calculate the sum using these variables.\n",
    "```"
   ]
  },
  {
   "cell_type": "code",
   "execution_count": 10,
   "id": "aa63350c",
   "metadata": {
    "tags": [
     "hide-output"
    ]
   },
   "outputs": [],
   "source": [
    "# Make a variable for the number 35\n",
    "\n",
    "# Make a variable for the number 69\n",
    "\n",
    "# Calculate the sum using the variables"
   ]
  },
  {
   "cell_type": "markdown",
   "id": "6ef4dc7e",
   "metadata": {},
   "source": [
    "```{admonition} Solution\n",
    ":class: tip, dropdown\n",
    "Your code should look a bit like this:\n",
    "\t\n",
    "\tnumber_1 = 35\n",
    "\tnumber_2 = 69\n",
    "\tnumber_1 + number_2 \n",
    "```"
   ]
  },
  {
   "cell_type": "code",
   "execution_count": 11,
   "id": "0f98b74a",
   "metadata": {
    "tags": [
     "remove-input",
     "hide-output"
    ]
   },
   "outputs": [
    {
     "data": {
      "text/plain": [
       "104"
      ]
     },
     "execution_count": 11,
     "metadata": {},
     "output_type": "execute_result"
    }
   ],
   "source": [
    "number_1 = 35\n",
    "number_2 = 69\n",
    "number_1 + number_2 "
   ]
  },
  {
   "cell_type": "markdown",
   "id": "414ca648",
   "metadata": {},
   "source": [
    "The plus sign can be used to calculate sums, as you did in the above exercise. However, the plus sign can also be used to stick different strings together. \n",
    "\n",
    "```{admonition} Exercise\n",
    ":class: attention\n",
    "Type the code below in a cell in your Notebook and run the cell.\n",
    "```"
   ]
  },
  {
   "cell_type": "code",
   "execution_count": 12,
   "id": "0dac60b2",
   "metadata": {
    "tags": [
     "hide-output"
    ]
   },
   "outputs": [
    {
     "data": {
      "text/plain": [
       "'This is a stuck together text'"
      ]
     },
     "execution_count": 12,
     "metadata": {},
     "output_type": "execute_result"
    }
   ],
   "source": [
    "line_1 = \"This is a \"\n",
    "line_2 = \"stuck together text\"\n",
    "\n",
    "line_1 + line_2"
   ]
  },
  {
   "cell_type": "markdown",
   "id": "491a106d",
   "metadata": {},
   "source": [
    "As you can see Python adds the text elements together to form a longer sentence. This also works with multiple variables.\n",
    "\n",
    "```{admonition} Exercise\n",
    ":class: attention\n",
    "Ensure that the four lines below are printed as one sentence in the output.\n",
    "```"
   ]
  },
  {
   "cell_type": "code",
   "execution_count": 13,
   "id": "b9ad514a",
   "metadata": {
    "tags": [
     "hide-output"
    ]
   },
   "outputs": [],
   "source": [
    "line_1 = \"Because of this Notebook \"\n",
    "line_2 = \"I now know \"\n",
    "line_3 = \"that programming with Python \"\n",
    "line_4 = \"is very fun!\""
   ]
  },
  {
   "cell_type": "markdown",
   "id": "1db2b2ba",
   "metadata": {},
   "source": [
    "```{admonition} Solution\n",
    ":class: tip, dropdown\n",
    "Your code should look a bit like this:\n",
    "\n",
    "\tline_1 + line_2 + line_3 + line_4\n",
    "```"
   ]
  },
  {
   "cell_type": "code",
   "execution_count": 14,
   "id": "f1491777",
   "metadata": {
    "tags": [
     "remove-input",
     "hide-output"
    ]
   },
   "outputs": [
    {
     "data": {
      "text/plain": [
       "'Because of this Notebook I now know that programming with Python is very fun!'"
      ]
     },
     "execution_count": 14,
     "metadata": {},
     "output_type": "execute_result"
    }
   ],
   "source": [
    "line_1 + line_2 + line_3 + line_4"
   ]
  },
  {
   "cell_type": "markdown",
   "id": "5382fd44",
   "metadata": {},
   "source": [
    "Now, what about adding text and numbers from variables together?\n",
    "\n",
    "```{admonition} Exercise\n",
    ":class: attention\n",
    "Type the code below in a cell in your Notebook and see what happens when you run the code.\n",
    "```"
   ]
  },
  {
   "cell_type": "code",
   "execution_count": 15,
   "id": "7189b4fa",
   "metadata": {
    "tags": [
     "hide-output",
     "raises-exception"
    ]
   },
   "outputs": [
    {
     "ename": "TypeError",
     "evalue": "can only concatenate str (not \"int\") to str",
     "output_type": "error",
     "traceback": [
      "\u001b[1;31m---------------------------------------------------------------------------\u001b[0m",
      "\u001b[1;31mTypeError\u001b[0m                                 Traceback (most recent call last)",
      "Input \u001b[1;32mIn [15]\u001b[0m, in \u001b[0;36m<cell line: 3>\u001b[1;34m()\u001b[0m\n\u001b[0;32m      1\u001b[0m line_1 \u001b[38;5;241m=\u001b[39m \u001b[38;5;124m\"\u001b[39m\u001b[38;5;124mThe amount of abstracts for DHBenelux is: \u001b[39m\u001b[38;5;124m\"\u001b[39m\n\u001b[0;32m      2\u001b[0m amount_1 \u001b[38;5;241m=\u001b[39m \u001b[38;5;241m43\u001b[39m\n\u001b[1;32m----> 3\u001b[0m \u001b[43mline_1\u001b[49m\u001b[43m \u001b[49m\u001b[38;5;241;43m+\u001b[39;49m\u001b[43m \u001b[49m\u001b[43mamount_1\u001b[49m\n",
      "\u001b[1;31mTypeError\u001b[0m: can only concatenate str (not \"int\") to str"
     ]
    }
   ],
   "source": [
    "line_1 = \"The amount of abstracts for DHBenelux is: \"\n",
    "amount_1 = 43\n",
    "line_1 + amount_1"
   ]
  },
  {
   "cell_type": "markdown",
   "id": "117465fc",
   "metadata": {},
   "source": [
    "```{admonition} Solution\n",
    ":class: tip, dropdown\n",
    "This gives an error:\n",
    "\t\n",
    "\tTypeError: unsupported operand type(s) for +: 'int' and 'str'\n",
    "\n",
    "Just adding numbers and text does not work. Some extra work needs to be done in order for Python to correctly return output without errors\n",
    "```\n",
    "\n",
    "There are multiple options to convince Python to return combinations of numbers and  text:\n",
    "- force numbers to text with *str()*\n",
    "- *f strings*\n",
    "\n",
    "To force Python to interpret a number as text its type can be changed with str(number).\n",
    "\n",
    "```{admonition} Exercise\n",
    ":class: attention\n",
    "Type the code below in a cell in your Notebook and run the cell.\n",
    "```"
   ]
  },
  {
   "cell_type": "code",
   "execution_count": 16,
   "id": "cc5323c9",
   "metadata": {
    "tags": [
     "hide-output"
    ]
   },
   "outputs": [
    {
     "data": {
      "text/plain": [
       "'The amount of abstracts for DHBenelux is: 43'"
      ]
     },
     "execution_count": 16,
     "metadata": {},
     "output_type": "execute_result"
    }
   ],
   "source": [
    "line_1 = \"The amount of abstracts for DHBenelux is: \"\n",
    "amount_1 = 43\n",
    "line_1 + str(amount_1)"
   ]
  },
  {
   "cell_type": "markdown",
   "id": "9bef39cd",
   "metadata": {},
   "source": [
    "This also works with multiple variabeles and pieces of text outside of variables.\n",
    "\n",
    "```{admonition} Exercise\n",
    ":class: attention\n",
    "Type the code below in a cell in your Notebook and run the cell.\n",
    "```"
   ]
  },
  {
   "cell_type": "code",
   "execution_count": 17,
   "id": "e853fc4b",
   "metadata": {
    "tags": [
     "hide-output"
    ]
   },
   "outputs": [
    {
     "data": {
      "text/plain": [
       "'The amount of coffee breaks in this workshop is: 2'"
      ]
     },
     "execution_count": 17,
     "metadata": {},
     "output_type": "execute_result"
    }
   ],
   "source": [
    "line_1 = \"coffee breaks \"\n",
    "amount_1 = 2\n",
    " \n",
    "\"The amount of \" + line_1 + \"in this workshop is: \" + str(amount_1)"
   ]
  },
  {
   "cell_type": "markdown",
   "id": "7666182d",
   "metadata": {},
   "source": [
    "```{note}\n",
    "Notice the space after each of the pieces of text (either in or outside a variable).\n",
    "Try removing it to see what happens\n",
    "```\n",
    "\n",
    "Another option is the use of *f strings*. This is a way of telling Python where to insert the contents of a variable into a string. \n",
    "\n",
    "The syntax for *f strings* is:\n",
    "\n",
    "```python\n",
    "f\"This is the string we type and {this_is_the_variable}\"\n",
    "```\n",
    "\n",
    "\n",
    "```{admonition} Exercise\n",
    ":class: attention\n",
    "Type the code below in a cell in your Notebook and run the cell.\n",
    "```"
   ]
  },
  {
   "cell_type": "code",
   "execution_count": 18,
   "id": "1db78e60",
   "metadata": {
    "tags": [
     "hide-output"
    ]
   },
   "outputs": [
    {
     "data": {
      "text/plain": [
       "'The amount of coffee breaks  in this workshop is: 2'"
      ]
     },
     "execution_count": 18,
     "metadata": {},
     "output_type": "execute_result"
    }
   ],
   "source": [
    "line_1 = \"coffee breaks \"\n",
    "amount_1 = 2\n",
    " \n",
    "f\"The amount of {line_1} in this workshop is: {amount_1}\""
   ]
  },
  {
   "cell_type": "markdown",
   "id": "8ef284fd",
   "metadata": {},
   "source": [
    "### Output\n",
    "\n",
    "As you have already seen, executing code can produce output. In Jupyter Notebooks the output is presented within an output cell. Errors will be printed here too. \n",
    "Not all code will produce output, so don't be alarmed.\n",
    "\n",
    "Output should generally be created by printing using:"
   ]
  },
  {
   "cell_type": "code",
   "execution_count": 19,
   "id": "9be1b1e6",
   "metadata": {},
   "outputs": [
    {
     "name": "stdout",
     "output_type": "stream",
     "text": [
      "whatever you wish to print\n"
     ]
    }
   ],
   "source": [
    "print(\"whatever you wish to print\") "
   ]
  },
  {
   "cell_type": "markdown",
   "id": "3b9fe677",
   "metadata": {},
   "source": [
    "Text must be put between quotes or Python will assume you are wishing to print variables.\n",
    "\n",
    "Variables can be printed the same way as text, but must **not** have quotation marks.\n",
    "\n",
    "```{admonition} Exercise\n",
    ":class: attention\n",
    "In a new code cell, create the variable **print_me* and assign to it \"I was printed with the print function\"\n",
    "Using the print function, print out the variable.\n",
    "```\n",
    "\n",
    "```{admonition} Solution\n",
    ":class: tip, dropdown\n",
    "\tprint_me = \"I was printed with the print function\"\n",
    "\tprint(print_me)\n",
    "```"
   ]
  },
  {
   "cell_type": "code",
   "execution_count": 20,
   "id": "4d7d5cde",
   "metadata": {
    "tags": [
     "remove-input",
     "hide-output"
    ]
   },
   "outputs": [
    {
     "name": "stdout",
     "output_type": "stream",
     "text": [
      "I was printed with the print function\n"
     ]
    }
   ],
   "source": [
    "print_me = \"I was printed with the print function\"\n",
    "print(print_me)"
   ]
  },
  {
   "cell_type": "markdown",
   "id": "f9cf7050",
   "metadata": {},
   "source": [
    "As you can see prints the contents of the variable to the output cell.\n",
    "\n",
    "However, using Jupyter Notebooks there is also another way to create output. You have seen, and used, this before. The last line of a cell will always create output, if there is any output to create. \n",
    "\n",
    "To demonstrate this, let's reuse some of our variabeles.\n",
    "\n",
    "```{admonition} Exercise\n",
    ":class: attention\n",
    "In a new code cell, type out the variables *line_1*, *amount_1*, *print_me* below each other. Run the cell.\n",
    "Which variable is printed to the output?\n",
    "```\n",
    "\n",
    "```{admonition} Solution\n",
    ":class: tip, dropdown\n",
    "Only the last variable *print_me* is printed.\n",
    "Try changing the order and see if this behaviour is consistent.\n",
    "```"
   ]
  },
  {
   "cell_type": "code",
   "execution_count": 21,
   "id": "7af1b366",
   "metadata": {
    "tags": [
     "remove-input",
     "hide-output"
    ]
   },
   "outputs": [
    {
     "data": {
      "text/plain": [
       "'I was printed with the print function'"
      ]
     },
     "execution_count": 21,
     "metadata": {},
     "output_type": "execute_result"
    }
   ],
   "source": [
    "line_1\n",
    "amount_1\n",
    "print_me"
   ]
  },
  {
   "cell_type": "markdown",
   "id": "9c5d4f87",
   "metadata": {},
   "source": [
    "These two ways of printing output are not completely the same. Printing using the print() function removes some of the layout that Jupyter creates for you. This is very noticible when printing tables.\n",
    "\n",
    "We have created a variable table for you that contains a table of numbers. Which we will use to demonstrate the difference in printing.\n",
    "\n",
    "```{admonition} Exercise\n",
    ":class: attention\n",
    "In a new code cell, print out the variable *table* using the print() function and by executing the variabel\n",
    "Which variable is printed to the output?\n",
    "```\n",
    "\n",
    "````{admonition} Solution\n",
    ":class: tip, dropdown\n",
    "You will have used \n",
    "```print(table)```\n",
    "or \n",
    "```table```\n",
    "to print out the table. You can check below of the output matches yours.\n",
    "````"
   ]
  },
  {
   "cell_type": "code",
   "execution_count": 22,
   "id": "79d6c682",
   "metadata": {
    "tags": [
     "remove-input",
     "hide-output"
    ]
   },
   "outputs": [
    {
     "name": "stdout",
     "output_type": "stream",
     "text": [
      "This was printed with the print() function.\n",
      "     I   am   a  table     of  numbers\n",
      "0   32    6   7      5  34534        7\n",
      "1  123  543   3      7      8       43\n",
      "2   12   34   8      6     34       65\n",
      "3   12   32  56    873     56        3\n"
     ]
    }
   ],
   "source": [
    "import pandas as pd\n",
    "data = [32,6,7,5,34534,7], [123,543,3,7,8,43],[12,34,8,6,34,65],[12,32,56,873,56,3]\n",
    "table = pd.DataFrame(data, columns = [\"I\",\"am\",\"a\",\"table\",\"of\",\"numbers\"])\n",
    "print(\"This was printed with the print() function.\")\n",
    "print(table)"
   ]
  },
  {
   "cell_type": "code",
   "execution_count": 23,
   "id": "2c699a5e",
   "metadata": {
    "tags": [
     "remove-input",
     "hide-output"
    ]
   },
   "outputs": [
    {
     "name": "stdout",
     "output_type": "stream",
     "text": [
      "This was printed by executing table\n"
     ]
    },
    {
     "data": {
      "text/html": [
       "<div>\n",
       "<style scoped>\n",
       "    .dataframe tbody tr th:only-of-type {\n",
       "        vertical-align: middle;\n",
       "    }\n",
       "\n",
       "    .dataframe tbody tr th {\n",
       "        vertical-align: top;\n",
       "    }\n",
       "\n",
       "    .dataframe thead th {\n",
       "        text-align: right;\n",
       "    }\n",
       "</style>\n",
       "<table border=\"1\" class=\"dataframe\">\n",
       "  <thead>\n",
       "    <tr style=\"text-align: right;\">\n",
       "      <th></th>\n",
       "      <th>I</th>\n",
       "      <th>am</th>\n",
       "      <th>a</th>\n",
       "      <th>table</th>\n",
       "      <th>of</th>\n",
       "      <th>numbers</th>\n",
       "    </tr>\n",
       "  </thead>\n",
       "  <tbody>\n",
       "    <tr>\n",
       "      <th>0</th>\n",
       "      <td>32</td>\n",
       "      <td>6</td>\n",
       "      <td>7</td>\n",
       "      <td>5</td>\n",
       "      <td>34534</td>\n",
       "      <td>7</td>\n",
       "    </tr>\n",
       "    <tr>\n",
       "      <th>1</th>\n",
       "      <td>123</td>\n",
       "      <td>543</td>\n",
       "      <td>3</td>\n",
       "      <td>7</td>\n",
       "      <td>8</td>\n",
       "      <td>43</td>\n",
       "    </tr>\n",
       "    <tr>\n",
       "      <th>2</th>\n",
       "      <td>12</td>\n",
       "      <td>34</td>\n",
       "      <td>8</td>\n",
       "      <td>6</td>\n",
       "      <td>34</td>\n",
       "      <td>65</td>\n",
       "    </tr>\n",
       "    <tr>\n",
       "      <th>3</th>\n",
       "      <td>12</td>\n",
       "      <td>32</td>\n",
       "      <td>56</td>\n",
       "      <td>873</td>\n",
       "      <td>56</td>\n",
       "      <td>3</td>\n",
       "    </tr>\n",
       "  </tbody>\n",
       "</table>\n",
       "</div>"
      ],
      "text/plain": [
       "     I   am   a  table     of  numbers\n",
       "0   32    6   7      5  34534        7\n",
       "1  123  543   3      7      8       43\n",
       "2   12   34   8      6     34       65\n",
       "3   12   32  56    873     56        3"
      ]
     },
     "execution_count": 23,
     "metadata": {},
     "output_type": "execute_result"
    }
   ],
   "source": [
    "print(\"This was printed by executing table\")\n",
    "table"
   ]
  },
  {
   "cell_type": "markdown",
   "id": "00fd9ab5",
   "metadata": {},
   "source": [
    "While this diffence is purely aesthetic, it is good to know, especially when working with table formatted data.\n",
    " \n",
    "### Functions\n",
    "\n",
    "When you program in Python you will make use of functions. The *str()* code used in the previous exercise to make Python recognize numbers as text was an example of a function. Python contains a lot of built-in functions that are ready to use. Saving us a lot of manual coding!\n",
    "\n",
    "Functions need to be passed one or more parameters as input. The syntax of a function is as follows: *functionname(parameters)*. When there are multiple parameters these are seperated with a comma.\n",
    "\n",
    "You can find some examples below.\n",
    "\n",
    "```{admonition} Exercise\n",
    ":class: attention\n",
    "Type the code below in a cell in your Notebook and run the cell\n",
    "```"
   ]
  },
  {
   "cell_type": "code",
   "execution_count": 24,
   "id": "e6b0ddfb",
   "metadata": {
    "tags": [
     "hide-output"
    ]
   },
   "outputs": [
    {
     "data": {
      "text/plain": [
       "75"
      ]
     },
     "execution_count": 24,
     "metadata": {},
     "output_type": "execute_result"
    }
   ],
   "source": [
    "# Calculate the highest number using the max() function.\n",
    "max(5, 8, 35, 4, 75, 2)"
   ]
  },
  {
   "cell_type": "markdown",
   "id": "492c466f",
   "metadata": {},
   "source": [
    "```{admonition} Exercise\n",
    ":class: attention\n",
    "Round the number below using the round() function. The first parameter is the number to round. The second number is the required number of decimals. Type the code below in a cell in your Notebook and run the cell\n",
    "```"
   ]
  },
  {
   "cell_type": "code",
   "execution_count": 25,
   "id": "7f9ccc0e",
   "metadata": {
    "tags": [
     "hide-output"
    ]
   },
   "outputs": [
    {
     "data": {
      "text/plain": [
       "36.53"
      ]
     },
     "execution_count": 25,
     "metadata": {},
     "output_type": "execute_result"
    }
   ],
   "source": [
    "round(36.53343, 2)"
   ]
  },
  {
   "cell_type": "markdown",
   "id": "0628b1ee",
   "metadata": {},
   "source": [
    "```{admonition} Exercise\n",
    ":class: attention\n",
    "Calculate the *lowest* number using the function min(). This functions works similarly to the previously used max() function.\n",
    "Use the following numbers: 6, 24, 8, 2, 14. \n",
    "```\n",
    "\n",
    "````{admonition} Solution\n",
    ":class: tip, dropdown\n",
    "The code should look like this\n",
    "```\n",
    "min(6, 24, 8, 2, 14)\n",
    "```\n",
    "and the min() function should return **2**\n",
    "````\n",
    "### Conditional statements, *if else*\n",
    "\n",
    "Python is able to use conditional statements. These are control structures that enable us to decide what to do based on what happens in our code and input. It requires that that one or more conditions are specified to be evaluated or tested by the program, along with something that the code must do if the condition is determined to be true, and optionally, something else if the condition is determined to be false. \n",
    "\n",
    "For example:\n",
    "```\n",
    "\tif \"hungry\":\n",
    "\t\tto_do = \"Lunch!\"\n",
    "\telse:\n",
    "\t\tto_do = \"Work!\"\n",
    "```\n",
    "These can also be extended using multiple choices:\n",
    "```\n",
    "\tif \"hungry\":\n",
    "\t\tto_do = \"Lunch!\"\n",
    "\telif \"tired\": \n",
    "\t\tto_do = \"Coffee!\" \n",
    "\telse:\n",
    "\t\tto_do = \"Work!\"\n",
    "```\n",
    "Instead of coding out conditions directly into the *if else*, it is also possible to evaluate the contents of a variable. This enables us to reuse an *if else* block multiple times. \n",
    "```\n",
    "## First we put the condition into a variable \n",
    "\tcurrent_state == \"hungry\"\n",
    "## then we evaluate the variable\n",
    "\tIF current_state == \"hungry\":\n",
    "\t\tto_do = \"Lunch!\"\n",
    "\tELIF current_state == \"tired\": \n",
    "\t\tto_do = \"Coffee!\" \n",
    "\tELSE:\n",
    "\t\tto_do = \"Work!\"\n",
    "```\n",
    "It we would now print the contents of the variable *to_do* we would get:\n",
    "```\n",
    "Output:\n",
    "\"Lunch!\"\n",
    "```\n",
    "\n",
    "### Packages\n",
    "\n",
    "The last important thing to know is that Python works with packages. A package is a collection of modules with predefined functions. These functions can than be used in your own code. Using packages can save a lot of programming work and enhances the functionality of base Python. Most Python programmers regularly use packages.\n",
    "\n",
    "Before using a Python package it needs to be *installed*. This preferably done using the command line but can also be done within your Jupyter Notebook.\n",
    "Afterwards the package needs to be *imported* into the Notebook. After importing the package is ready for use.\n",
    "\n",
    "To demonstrate this we will install, import and use a package to display some information about the contents of DHBenelux 2022. \n",
    "\n",
    "First you will need to download the dataset.\n",
    "\n",
    "**To Add** download link and dataset\n",
    "\n",
    "Now lets install and import the packages we need.\n",
    "We will need three packages:\n",
    "- Pandas, for easy data manipulation \n",
    "- matplotlib, for plotting in Python\n",
    "- WordCloud, for generating a wordcloud \n",
    "\n",
    "```{admonition} Exercise\n",
    ":class: attention\n",
    "Type the code below in a cell in your Notebook and run the cell\n",
    "```\n",
    "\n",
    "```\n",
    "# Install the package\n",
    "!pip install pandas\n",
    "!pip install WordCloud\n",
    "!pip install matplotlib\n",
    "```\n",
    "```{note}\n",
    "The exclamation mark before *pip* is needed to activate *pip* within the Notebook enviroment. When installing from the command line this is not needed.\n",
    "```"
   ]
  },
  {
   "cell_type": "code",
   "execution_count": 26,
   "id": "6b5a28d9",
   "metadata": {
    "tags": [
     "hide-output"
    ]
   },
   "outputs": [
    {
     "ename": "ModuleNotFoundError",
     "evalue": "No module named 'wordcloud'",
     "output_type": "error",
     "traceback": [
      "\u001b[1;31m---------------------------------------------------------------------------\u001b[0m",
      "\u001b[1;31mModuleNotFoundError\u001b[0m                       Traceback (most recent call last)",
      "Input \u001b[1;32mIn [26]\u001b[0m, in \u001b[0;36m<cell line: 3>\u001b[1;34m()\u001b[0m\n\u001b[0;32m      1\u001b[0m \u001b[38;5;66;03m# Import the packages\u001b[39;00m\n\u001b[0;32m      2\u001b[0m \u001b[38;5;28;01mimport\u001b[39;00m \u001b[38;5;21;01mpandas\u001b[39;00m\n\u001b[1;32m----> 3\u001b[0m \u001b[38;5;28;01mfrom\u001b[39;00m \u001b[38;5;21;01mwordcloud\u001b[39;00m \u001b[38;5;28;01mimport\u001b[39;00m WordCloud\n\u001b[0;32m      4\u001b[0m \u001b[38;5;28;01mimport\u001b[39;00m \u001b[38;5;21;01mmatplotlib\u001b[39;00m\u001b[38;5;21;01m.\u001b[39;00m\u001b[38;5;21;01mpyplot\u001b[39;00m \u001b[38;5;28;01mas\u001b[39;00m \u001b[38;5;21;01mplt\u001b[39;00m\n",
      "\u001b[1;31mModuleNotFoundError\u001b[0m: No module named 'wordcloud'"
     ]
    }
   ],
   "source": [
    "# Import the packages\n",
    "import pandas\n",
    "from wordcloud import WordCloud\n",
    "import matplotlib.pyplot as plt"
   ]
  },
  {
   "cell_type": "markdown",
   "id": "cea9b3fc",
   "metadata": {},
   "source": [
    "```{note}\n",
    "There is a difference between the import statements of the three packages. In the case of *pandas* and *wordcloud* we import the whole package. \n",
    "For *matplotlib* we only want the *pyplot* module, so we added this explicitly after the package name. This ensures that ony that module is imported. The *as plt* statement renames package to a shorter and easier typable code. You will see this used below.\n",
    "```\n",
    "\n",
    "A package can be used in the same way as a function. \n",
    "We will use the *pandas* package to load data into the Notebook in a way that is digestable for the creation of a wordcloud.\n",
    "Many packages feature multiple functions for data manipulation, calculation or visualisation. The function you wish to use is added after the package name.\n",
    "\n",
    "Syntax: *packagename.function(parameters)*\n",
    "\n",
    "The package name points Python to the location of the function. \n",
    "\n",
    "```{admonition} Exercise\n",
    ":class: attention\n",
    "Type the code below in a cell in your Notebook and run the cell\n",
    "```"
   ]
  },
  {
   "cell_type": "code",
   "execution_count": null,
   "id": "556b9906",
   "metadata": {
    "tags": [
     "hide-output"
    ]
   },
   "outputs": [],
   "source": [
    "# Read the dataset into Python using pandas\n",
    "wordcloud = pandas.read_csv(\"data/wordcloud_dataset.csv\", header=None, index_col=0, squeeze=True)\n",
    "# Transform into dictionary for use in the WordCloud\n",
    "wordcloud_dict = wordcloud.to_dict()"
   ]
  },
  {
   "cell_type": "markdown",
   "id": "e26a3bdc",
   "metadata": {},
   "source": [
    "```{note}\n",
    "As you can see, the *pandas* name precedes the option *read_csv*. \n",
    "```\n",
    "\n",
    "Now we have data it is good practice to have a quick look at it to ensure the data is loaded correctly.\n",
    "\n",
    "```{admonition} Exercise\n",
    ":class: attention\n",
    "Type the name of the dataset in a cell and run the cell\n",
    "```\n",
    "\n",
    "The data should look like the example below."
   ]
  },
  {
   "cell_type": "code",
   "execution_count": null,
   "id": "a7b7b560",
   "metadata": {
    "tags": [
     "remove-input",
     "output_scroll"
    ]
   },
   "outputs": [],
   "source": [
    "wordcloud_dict"
   ]
  },
  {
   "cell_type": "markdown",
   "id": "e8f8ceac",
   "metadata": {},
   "source": [
    "When the data is correctly loaded we can use the *WordCloud* and *matplotlib* packages to create a wordcloud from the data.\n",
    "\n",
    "```{admonition} Exercise\n",
    ":class: attention\n",
    "Type the code below in a cell in your Notebook and run the cell\n",
    "```"
   ]
  },
  {
   "cell_type": "code",
   "execution_count": null,
   "id": "6b9b2277",
   "metadata": {
    "tags": [
     "hide-output"
    ]
   },
   "outputs": [],
   "source": [
    "# initialise the wordcloud\n",
    "wc = WordCloud(background_color=\"white\", max_words=20)\n",
    "# generate the wordcloud \n",
    "wc.generate_from_frequencies(wordcloud_dict)\n",
    "# plt the wordcloud to the output\n",
    "plt.figure()\n",
    "plt.imshow(wc,interpolation=\"bilinear\")\n",
    "plt.axis(\"off\")\n",
    "plt.show()"
   ]
  },
  {
   "cell_type": "markdown",
   "id": "bbf1d21f",
   "metadata": {},
   "source": [
    "This should plot a wordcloud showing maximally 20 word in different sizes. Each word is sized by the amount of times it occurs in the titles of the DHBenelux 2022 abstract. Common words have already been removed.\n",
    "This visualiation can give quick insight to which items are popular at the moment. \n",
    "\n",
    "Well done! Now you know the basics of working with Jupyter Notebooks and Python. We will use this in the coming chapters."
   ]
  }
 ],
 "metadata": {
  "jupytext": {
   "cell_metadata_filter": "-all",
   "formats": "md:myst",
   "text_representation": {
    "extension": ".md",
    "format_name": "myst",
    "format_version": 0.13,
    "jupytext_version": "1.11.5"
   }
  },
  "kernelspec": {
   "display_name": "Python 3",
   "language": "python",
   "name": "python3"
  },
  "language_info": {
   "codemirror_mode": {
    "name": "ipython",
    "version": 3
   },
   "file_extension": ".py",
   "mimetype": "text/x-python",
   "name": "python",
   "nbconvert_exporter": "python",
   "pygments_lexer": "ipython3",
   "version": "3.9.12"
  },
  "source_map": [
   14,
   78,
   80,
   98,
   100,
   109,
   114,
   132,
   136,
   162,
   169,
   175,
   179,
   190,
   194,
   209,
   216,
   225,
   233,
   244,
   249,
   259,
   266,
   275,
   282,
   290,
   293,
   303,
   308,
   330,
   335,
   344,
   351,
   372,
   379,
   387,
   389,
   406,
   410,
   428,
   433,
   454,
   462,
   466,
   482,
   487,
   494,
   498,
   586,
   593,
   613,
   619,
   633,
   636,
   645,
   656
  ]
 },
 "nbformat": 4,
 "nbformat_minor": 5
}