{
 "cells": [
  {
   "cell_type": "markdown",
   "id": "eb3cae51",
   "metadata": {},
   "source": [
    "# Lesson 4: Practical session: Working with ElemenTree and Beautiful Soup\n",
    "\n",
    "In this lesson, we are going to explore how the different packages work. We use the same example file that was used in lesson 2 (click here to download the file).\n",
    "\n",
    "This lesson is divided intro three sessions, where every session works with one of the Python packages that was introduced in lesson ?.\n",
    "With every package, we follow these steps:\n",
    "- Load the XML file;\n",
    "- Display the structure of the XML file;\n",
    "- Extraxt the booktitles and descriptions;\n",
    "- Extract name and surname of the author;\n",
    "- Store the information in a .csv or .txt file.\n",
    "\n",
    "## 4a: The ElemenTree\n",
    "\n",
    "ElemenTree is part of the standard library and therefore does not need to be installed.\n",
    "\n",
    "Before we can use the package, we have to let Python know we want to use it. We do this by importing the package.\n",
    "Type in a code cell:"
   ]
  },
  {
   "cell_type": "code",
   "execution_count": 1,
   "id": "2c04deed",
   "metadata": {},
   "outputs": [],
   "source": [
    "import xml.etree.ElementTree as ET"
   ]
  },
  {
   "cell_type": "markdown",
   "id": "e8a26591",
   "metadata": {},
   "source": [
    "#### Examine the structure of the file\n",
    "\n",
    "Now, we want to open the XML file from which we want to extract information. \n",
    "Add a new code cell and type:"
   ]
  },
  {
   "cell_type": "code",
   "execution_count": 2,
   "id": "ea8db4ac",
   "metadata": {},
   "outputs": [],
   "source": [
    "tree = ET.parse('data/example.xml')\n",
    "root = tree.getroot()"
   ]
  },
  {
   "cell_type": "markdown",
   "id": "45865ad0",
   "metadata": {},
   "source": [
    "```{note}\n",
    "In the code above, alter the 'path_to_file/name_file' with the path to the folder and the filename. \n",
    "For example: D:\\Projects\\XML workshop\\data\\example.xml \n",
    "```\n",
    "\n",
    "When you want to extract information from an XML file, it is important that you are familair with the structure of the file. \n",
    "There are two ways to do this. \n",
    "\n",
    "1. You can open the file in a programme like Notepad++ or open it in your browser\n",
    "2. You can show the file in your Jupyter Notebook with the following code:"
   ]
  },
  {
   "cell_type": "code",
   "execution_count": 3,
   "id": "22d78c09",
   "metadata": {
    "tags": [
     "hide-output"
    ]
   },
   "outputs": [
    {
     "name": "stdout",
     "output_type": "stream",
     "text": [
      "<?xml version='1.0' encoding='utf8'?>\n",
      "<catalog>\n",
      "   <book id=\"bk101\">\n",
      "      <author>\n",
      "<name>Matthew</name>\n",
      "<surname>Gambardella</surname>\n",
      "      </author>\n",
      "      <title>XML Developer's Guide</title>\n",
      "      <genre>Computer</genre>\n",
      "      <price>44.95</price>\n",
      "      <publish_date>2000-10-01</publish_date>\n",
      "      <description>An in-depth look at creating applications \n",
      "      with XML.</description>\n",
      "   </book>\n",
      "   <book id=\"bk102\">\n",
      "      <author>\n",
      "<name>Kim</name>\n",
      "<surname>Ralls</surname>\n",
      "      </author>\n",
      "      <title>Midnight Rain</title>\n",
      "      <genre>Fantasy</genre>\n",
      "      <price>5.95</price>\n",
      "      <publish_date>2000-12-16</publish_date>\n",
      "      <description>A former architect battles corporate zombies, \n",
      "      an evil sorceress, and her own childhood to become queen \n",
      "      of the world.</description>\n",
      "   </book>\n",
      "   <book id=\"bk103\">\n",
      "      <author>\n",
      " \t<name>Eva</name>\n",
      "<surname>Corets</surname>\t\n",
      "      </author>\n",
      "      <title>Maeve Ascendant</title>\n",
      "      <genre>Fantasy</genre>\n",
      "      <price>5.95</price>\n",
      "      <publish_date>2000-11-17</publish_date>\n",
      "      <description>After the collapse of a nanotechnology \n",
      "      society in England, the young survivors lay the \n",
      "      foundation for a new society.</description>\n",
      "   </book>\n",
      "   <book id=\"bk104\">\n",
      "       <author>\n",
      " \t<name>Eva</name>\n",
      "<surname>Corets</surname>\t\n",
      "      </author>\n",
      "      <title>Oberon's Legacy</title>\n",
      "      <genre>Fantasy</genre>\n",
      "      <price>5.95</price>\n",
      "      <publish_date>2001-03-10</publish_date>\n",
      "      <description>In post-apocalypse England, the mysterious \n",
      "      agent known only as Oberon helps to create a new life \n",
      "      for the inhabitants of London. Sequel to Maeve \n",
      "      Ascendant.</description>\n",
      "   </book>\n",
      "   <book id=\"bk105\">\n",
      "      <author>\n",
      " \t<name>Eva</name>\n",
      "<surname>Corets</surname>\t\n",
      "      </author>\n",
      "      <title>The Sundered Grail</title>\n",
      "      <genre>Fantasy</genre>\n",
      "      <price>5.95</price>\n",
      "      <publish_date>2001-09-10</publish_date>\n",
      "      <description>The two daughters of Maeve, half-sisters, \n",
      "      battle one another for control of England. Sequel to \n",
      "      Oberon's Legacy.</description>\n",
      "   </book>\n",
      "   <book id=\"bk106\">\n",
      "      <author>\n",
      "<name>Cynthia</name>\n",
      "<surname>Randall</surname>\n",
      "      </author>\n",
      "      <title>Lover Birds</title>\n",
      "      <genre>Romance</genre>\n",
      "      <price>4.95</price>\n",
      "      <publish_date>2000-09-02</publish_date>\n",
      "      <description>When Carla meets Paul at an ornithology \n",
      "      conference, tempers fly as feathers get ruffled.</description>\n",
      "   </book>\n",
      "   <book id=\"bk107\">\n",
      "      <author>\n",
      "<name>Paula</name>\n",
      "<surname>Thurman</surname>\n",
      "      </author>\n",
      "      <title>Splish Splash</title>\n",
      "      <genre>Romance</genre>\n",
      "      <price>4.95</price>\n",
      "      <publish_date>2000-11-02</publish_date>\n",
      "      <description>A deep sea diver finds true love twenty \n",
      "      thousand leagues beneath the sea.</description>\n",
      "   </book>\n",
      "   <book id=\"bk108\">\n",
      "      <author>\n",
      "<name>Stefan</name>\n",
      "<surname>Knorr</surname>\n",
      "      </author>\n",
      "      <title>Creepy Crawlies</title>\n",
      "      <genre>Horror</genre>\n",
      "      <price>4.95</price>\n",
      "      <publish_date>2000-12-06</publish_date>\n",
      "      <description>An anthology of horror stories about roaches,\n",
      "      centipedes, scorpions  and other insects.</description>\n",
      "   </book>\n",
      "   <book id=\"bk109\">\n",
      "      <author>\n",
      "<name>Peter</name>\n",
      "<surname>Kress</surname>\n",
      "      </author>\n",
      "      <title>Paradox Lost</title>\n",
      "      <genre>Science Fiction</genre>\n",
      "      <price>6.95</price>\n",
      "      <publish_date>2000-11-02</publish_date>\n",
      "      <description>After an inadvertant trip through a Heisenberg\n",
      "      Uncertainty Device, James Salway discovers the problems \n",
      "      of being quantum.</description>\n",
      "   </book>\n",
      "   <book id=\"bk110\">\n",
      "      <author>\n",
      "<name>Tim</name>\n",
      "<surname>O'Brien</surname>\n",
      "      </author>\n",
      "      <title>Microsoft .NET: The Programming Bible</title>\n",
      "      <genre>Computer</genre>\n",
      "      <price>36.95</price>\n",
      "      <publish_date>2000-12-09</publish_date>\n",
      "      <description>Microsoft's .NET initiative is explored in \n",
      "      detail in this deep programmer's reference.</description>\n",
      "   </book>\n",
      "   <book id=\"bk111\">\n",
      "      <author>\n",
      "<name>Tim</name>\n",
      "<surname>O'Brien</surname>\n",
      "      </author>\n",
      "      <title>MSXML3: A Comprehensive Guide</title>\n",
      "      <genre>Computer</genre>\n",
      "      <price>36.95</price>\n",
      "      <publish_date>2000-12-01</publish_date>\n",
      "      <description>The Microsoft MSXML3 parser is covered in \n",
      "      detail, with attention to XML DOM interfaces, XSLT processing, \n",
      "      SAX and more.</description>\n",
      "   </book>\n",
      "   <book id=\"bk112\">\n",
      "      <author>\n",
      "<name>Mike</name>\n",
      "<surname>Galos</surname>\n",
      "      </author>\n",
      "      <title>Visual Studio 7: A Comprehensive Guide</title>\n",
      "      <genre>Computer</genre>\n",
      "      <price>49.95</price>\n",
      "      <publish_date>2001-04-16</publish_date>\n",
      "      <description>Microsoft Visual Studio 7 is explored in depth,\n",
      "      looking at how Visual Basic, Visual C++, C#, and ASP+ are \n",
      "      integrated into a comprehensive development \n",
      "      environment.</description>\n",
      "   </book>\n",
      "</catalog>\n"
     ]
    }
   ],
   "source": [
    "# This cell should have its output hidden!\n",
    "print(ET.tostring(root, encoding='utf8').decode('utf8'))"
   ]
  },
  {
   "cell_type": "markdown",
   "id": "a08894d9",
   "metadata": {},
   "source": [
    "#### Extract the book titles and descriptions\n",
    "\n",
    "Look at the XML structure. Which elements do we need do find the title and the description?\n",
    "\n",
    "```{admonition} Solution\n",
    ":class: tip, dropdown\n",
    "We need the child element 'book', and his subchildren 'title' and 'description'. \n",
    "```\n",
    "\n",
    "First, we type in the code to get the title from every book:"
   ]
  },
  {
   "cell_type": "code",
   "execution_count": 4,
   "id": "d3b09e76",
   "metadata": {
    "tags": [
     "hide-output"
    ]
   },
   "outputs": [
    {
     "name": "stdout",
     "output_type": "stream",
     "text": [
      "XML Developer's Guide\n",
      "Midnight Rain\n",
      "Maeve Ascendant\n",
      "Oberon's Legacy\n",
      "The Sundered Grail\n",
      "Lover Birds\n",
      "Splish Splash\n",
      "Creepy Crawlies\n",
      "Paradox Lost\n",
      "Microsoft .NET: The Programming Bible\n",
      "MSXML3: A Comprehensive Guide\n",
      "Visual Studio 7: A Comprehensive Guide\n"
     ]
    }
   ],
   "source": [
    "# This cell should have its output hidden!\n",
    "for book in root.findall('book'):\n",
    "    title = book.find('title').text\n",
    "    print(title)"
   ]
  }
 ],
 "metadata": {
  "jupytext": {
   "cell_metadata_filter": "-all",
   "formats": "md:myst",
   "text_representation": {
    "extension": ".md",
    "format_name": "myst",
    "format_version": 0.13,
    "jupytext_version": "1.11.5"
   }
  },
  "kernelspec": {
   "display_name": "Python 3",
   "language": "python",
   "name": "python3"
  },
  "language_info": {
   "codemirror_mode": {
    "name": "ipython",
    "version": 3
   },
   "file_extension": ".py",
   "mimetype": "text/x-python",
   "name": "python",
   "nbconvert_exporter": "python",
   "pygments_lexer": "ipython3",
   "version": "3.9.12"
  },
  "source_map": [
   14,
   35,
   37,
   44,
   47,
   59,
   64,
   77
  ]
 },
 "nbformat": 4,
 "nbformat_minor": 5
}