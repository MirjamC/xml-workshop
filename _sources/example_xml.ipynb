{
 "cells": [
  {
   "cell_type": "markdown",
   "id": "d91a89e8",
   "metadata": {},
   "source": [
    "# Lesson ?: Practical session: Working with XMLX, ElemenTree and Beautiful Soup\n",
    "\n",
    "In this lesson, we are going to explore how the different packages work. We use the same example file that was used in lesson 2 (click here to download the file).\n",
    "\n",
    "\n",
    "This lesson is divided intro three sessions, where every session works with one of the Python packages that was introduced in lesson ?.\n",
    "With every package, we follow these steps:\n",
    "- Open the XML file\n",
    "- Display the structure of the XML file\n",
    "- Extraxt the booktitles\n",
    "- Extract name and surname of the author\n",
    "- Store the information in a .csv of .txt file\n",
    "\n",
    "## ?a: The ElemenTree\n",
    "\n",
    "ElemenTree is part of the standard library and therefore does not need to be installed.\n",
    "\n",
    "Before we can use the package, we have to let Python know we want to use it. We do this by importing the package.\n",
    "Type in a code cell:"
   ]
  },
  {
   "cell_type": "code",
   "execution_count": 1,
   "id": "b1326048",
   "metadata": {},
   "outputs": [],
   "source": [
    "import xml.etree.ElementTree as ET"
   ]
  },
  {
   "cell_type": "markdown",
   "id": "e4887da2",
   "metadata": {},
   "source": [
    "Now, we want to open the XML file from which we want to extract information. \n",
    "Add a new code cell and type:"
   ]
  },
  {
   "cell_type": "code",
   "execution_count": 2,
   "id": "06021fb4",
   "metadata": {},
   "outputs": [],
   "source": [
    "tree = ET.parse('data/example.xml')\n",
    "root = tree.getroot()"
   ]
  },
  {
   "cell_type": "markdown",
   "id": "d9cc59aa",
   "metadata": {},
   "source": [
    "```{note}\n",
    "In the code above, alter the 'path_to_file/name_file' with the path to the folder and the filename. \n",
    "For example: D:\\Projects\\XML workshop\\data\\example.xml \n",
    "```\n",
    "\n",
    "When you want to extract information from an XML file, it is important that you are familair with the structure of the file. \n",
    "There are two ways to do this."
   ]
  }
 ],
 "metadata": {
  "jupytext": {
   "cell_metadata_filter": "-all",
   "formats": "md:myst",
   "text_representation": {
    "extension": ".md",
    "format_name": "myst",
    "format_version": 0.13,
    "jupytext_version": "1.11.5"
   }
  },
  "kernelspec": {
   "display_name": "Python 3",
   "language": "python",
   "name": "python3"
  },
  "language_info": {
   "codemirror_mode": {
    "name": "ipython",
    "version": 3
   },
   "file_extension": ".py",
   "mimetype": "text/x-python",
   "name": "python",
   "nbconvert_exporter": "python",
   "pygments_lexer": "ipython3",
   "version": "3.9.12"
  },
  "source_map": [
   14,
   36,
   38,
   43,
   46
  ]
 },
 "nbformat": 4,
 "nbformat_minor": 5
}