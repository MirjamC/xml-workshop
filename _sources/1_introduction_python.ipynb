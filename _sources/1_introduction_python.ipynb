{
 "cells": [
  {
   "cell_type": "markdown",
   "id": "71c5031b",
   "metadata": {},
   "source": [
    "# 1. Introduction to Python and Jupyter Notebooks\n",
    "This lesson will give a short introduction on how to work with Notebooks in combination with Python. \n",
    "It consists of explanation followed by pratical exercises. To get the most out of this lesson it is best to manually type the code into your Jupyter Notebook instead of copy-pasting.\n",
    "\n",
    "## Notebooks\n",
    "First, lets start up Jupyter and open a Notebook.\n",
    "In the taskbar searchbox, type 'jupyter' and open *jupyter notebook*.\n",
    "\n",
    "```{figure} /images/openJupyter.png\n",
    "---\n",
    "height: 200px\n",
    "name: openJupyter\n",
    "---\n",
    "Open Jupyter Notebook.\n",
    "```\n",
    "\n",
    "This should open a tab in your browser with the jupyter hub in the installation folder. \n",
    "This folder will act as your home folder for jupyter.\n",
    "All Notebooks you make will be stored here unless explicitely saved elsewhere or moved.\n",
    "\n",
    "```{figure} /images/JupyterHub.png\n",
    "---\n",
    "height: 200px\n",
    "name: JupyterHub\n",
    "---\n",
    "The Jupyter home or hub where all Notebooks reside.\n",
    "```\n",
    "To open a new Python Jupyter Notebook click the **new** button in the topright corner and select **python3** from the dropdown list.\n",
    "\n",
    "```{figure} /images/OpenNotebookOptions.png\n",
    "---\n",
    "height: 200px\n",
    "name: OpenNotebookOptions\n",
    "---\n",
    "Click new and python3 to open a new Notebook.\n",
    "```\n",
    "\n",
    "A new tab should open dispaying your new Notebook, usually called *Untitled*\n",
    "\n",
    "```{figure} /images/Notebook.png\n",
    "---\n",
    "height: 200px\n",
    "name: Notebook\n",
    "---\n",
    "Your freshly started Notebook with inspiring name.\n",
    "```\n",
    "\n",
    "Notebooks can be renamed by clicking on the name and typing a different name. It is best to make these names descriptive so they are still recognizable after a while. \n",
    "\n",
    "\n",
    "\n",
    "\n",
    "## How does a Notebook work?\n",
    "\n",
    "A Notebook is not a static page, but an interactive enviroment. Within the blocks (cells) of a Notebook code can be written ánd executed.\n",
    "\n",
    "### Different cell types\n",
    "\n",
    "Notebooks are compromised of different types of cells. \n",
    "The main cell types are *text cells* and *code cells*.\n",
    "\n",
    "Text cells are generally used for descriptions and explanations. These cells are inactive and code written in these cells cannot be executed.\n",
    "\n",
    "```{figure} /images/textcell.png\n",
    "---\n",
    "height: 200px\n",
    "name: textcell\n",
    "---\n",
    "This is a text cell.\n",
    "```\n",
    "\n",
    "The layout is managed through *markdown* (see [markdown syntax](https://www.markdownguide.org/basic-syntax/) for more information).\n",
    "\n",
    "The second main type of cell is the code cell. \n",
    "Code cells are used to write and execute code. In our case Python. When a code cell is run, Python will execute the code in the cell. More information about Python will follow in the next section.\n",
    "\n",
    "```{figure} /images/codecell.png\n",
    "---\n",
    "height: 200px\n",
    "name: codecell\n",
    "---\n",
    "This is a code cell.\n",
    "```\n",
    "\n",
    "Code cells are easily recognized by the 'In [ ]:' to the left of the cell.\n",
    "\n",
    "The type of a cell can be changed by selecting a cell and either going through the menu (Cell/Cell Type/<option>) or by selecting a cell and pressing either **Y** for a code cell or **M** for a text cell.\n",
    "\n",
    "```{figure} /images/celltypeOptions.png\n",
    "---\n",
    "height: 200px\n",
    "name: celltypeOptions\n",
    "---\n",
    "Via this menu you can select the cell type.\n",
    "```\n",
    "\n",
    "```{admonition} Exercise\n",
    ":class: attention\n",
    "Select a cell in the Notebook and change the type by using the hotkeys or the menu. \n",
    "```\n",
    "\n",
    "### Running cells\n",
    "There are multiple ways to run a cell:\n",
    "* By clicking the 'Run' button in the taskbar;\n",
    "* By pressing 'shift + enter' when the cell is selected (green frame)\n",
    "\t*Note that this will move the selection box down one cell. When the end of the cells is reached this will add new empty cells to the Notebook.*\n",
    "\n",
    "The moment a cell generates *output* the output is displayed beneath the cell, keeping code and output together.\n",
    "\n",
    "````{admonition} Exercise \n",
    ":class: attention\n",
    "Type the code below in a new code cell in your Notebook and run the cell.\n",
    "```\n",
    "2*8\n",
    "```\n",
    "````\n",
    "\n",
    "```{admonition} Solution\n",
    ":class: tip, dropdown\n",
    "Python will simply multiply the numbers and display the answer below the code cell.\n",
    "```"
   ]
  },
  {
   "cell_type": "code",
   "execution_count": 1,
   "id": "6b07e4b7",
   "metadata": {
    "tags": [
     "remove-input",
     "hide-output"
    ]
   },
   "outputs": [
    {
     "data": {
      "text/plain": [
       "16"
      ]
     },
     "execution_count": 1,
     "metadata": {},
     "output_type": "execute_result"
    }
   ],
   "source": [
    "2*8"
   ]
  },
  {
   "cell_type": "markdown",
   "id": "7a3f39fe",
   "metadata": {},
   "source": [
    "### Adding new cells\n",
    "\n",
    "One cell is rarely enough to make a clearly structured Notebook. Adding more cells can be done by pressing the '+' button in the taskbar. \n",
    "\n",
    "```{figure} /images/newcell.png\n",
    "---\n",
    "height: 200px\n",
    "name: newcell\n",
    "---\n",
    "Click the + to add a new cell directly below the selected one\n",
    "```\n",
    "\n",
    "This will add a new cell directly below the currently active cell.\n",
    "\n",
    "Another way is to use the menu 'Insert', where the choice is given between adding a cell above or below the current active cell.\n",
    "\n",
    "```{figure} /images/newcellmenu.png\n",
    "---\n",
    "height: 200px\n",
    "name: newcellmenu\n",
    "---\n",
    "In this menu you can add a new cell above or below.\n",
    "```\n",
    "\n",
    "### Comments\n",
    "\n",
    "Comments can be added to a code cell. Comments can be used to describe what a piece of code does, or can be used to tell where values can be changed."
   ]
  },
  {
   "cell_type": "code",
   "execution_count": 2,
   "id": "01bbd906",
   "metadata": {},
   "outputs": [],
   "source": [
    "# This is an example of a comment in a code cell."
   ]
  },
  {
   "cell_type": "markdown",
   "id": "bfa895ad",
   "metadata": {},
   "source": [
    "The moment a # is typed in a code cell, everything after it *on the same line* will be regarded as a comment. Lines that have been marked as a comment will **not** be executed by Python when the cell is run.\n",
    "\n",
    "````{admonition} Exercise \n",
    ":class: attention\n",
    "Type the code below in a new cell in your Notebook and run the cell. Does Python return output?\n",
    "```Python\n",
    "#print(\"The solution to 35+12 is:\")\n",
    "#print(35+12)\n",
    "```\n",
    "````\n",
    "\n",
    "```{admonition} Solution\n",
    ":class: tip, dropdown\n",
    "The cell should not return any output as the code is commented out by the #.\n",
    "```\n",
    "\n",
    "When the **#** is removed and the cell is run again, Python wil recognize the code and execute it.\n",
    "\n",
    "```{admonition} Exercise\n",
    ":class: attention\n",
    "Alter the cell so the code is no longer seen as a comment.\n",
    "```\n",
    "\n",
    "````{admonition} Solution\n",
    ":class: tip, dropdown\n",
    "Removing the # from the code should enable Python to recognize the code and return output when the cell is run.\n",
    "```Python\n",
    "print(\"The solution to 35+12 is:\")\n",
    "print(35+12)\n",
    "```\n",
    "````\n",
    "\n",
    "This should then print:"
   ]
  },
  {
   "cell_type": "code",
   "execution_count": 3,
   "id": "bcbb7527",
   "metadata": {
    "tags": [
     "remove-input",
     "hide-output"
    ]
   },
   "outputs": [
    {
     "name": "stdout",
     "output_type": "stream",
     "text": [
      "The solution to 35+12 is: \n",
      "47\n"
     ]
    }
   ],
   "source": [
    "print(\"The solution to 35+12 is: \")\n",
    "print(35+12)"
   ]
  },
  {
   "cell_type": "markdown",
   "id": "048aeb73",
   "metadata": {},
   "source": [
    "## Python\n",
    "\n",
    "Python was developed in 1991 by Guido van Rossum. The purpose of Python was to create a programming language that is both simple to understand and readable. \n",
    "Python works on different platforms such as Windows, Mac, Linux, etc. It is a very popular programming language in data analysis and data science because of its versatality.\n",
    "Python is open source, and can therefore be used for free.\n",
    "\n",
    "### Input and variables\n",
    "\n",
    "When using Python there are multiple types of input data, such as lists, numbers, text, and even whole tables.\n",
    "We put these input into *variables*. A variable is essentially a container for the data. The name of a variable is up to your own discretion, although there are some [rules and guidlines](https://www.w3schools.com/python/gloss_python_variable_names.asp). \n",
    "Python remembers which input was loaded into which variable. This means that the variables can be used in the code instead of the data itself.\n",
    "\n",
    "When creating a variable, it is important to input data correctly: for numbers *no* quotation marks are used, for text quotation marks *must be* used!\n",
    "\n",
    "The command *type()* can be used to determine what type of input a variable contains. For example:\n",
    "*int* indicates a variable contains an integer, or whole number.\n",
    "*str* indicates a variable contains a string, a piece of text. \n",
    "\n",
    "````{admonition} Exercise\n",
    ":class: attention\n",
    "Type the code below in a newcell in your Notebook and run the cell. \n",
    "```Python\n",
    "# This stores the data in the variable\n",
    "number = 9\n",
    "# This determines its type\n",
    "type(number)\n",
    "```\n",
    "````\n",
    "```{admonition} Solution\n",
    ":class: tip, dropdown\n",
    "Python will return the type of the variable.\n",
    "```"
   ]
  },
  {
   "cell_type": "code",
   "execution_count": 4,
   "id": "76d8411a",
   "metadata": {
    "tags": [
     "remove-input",
     "hide-output"
    ]
   },
   "outputs": [
    {
     "data": {
      "text/plain": [
       "int"
      ]
     },
     "execution_count": 4,
     "metadata": {},
     "output_type": "execute_result"
    }
   ],
   "source": [
    "number = 9\n",
    "type(number)"
   ]
  },
  {
   "cell_type": "markdown",
   "id": "94d830af",
   "metadata": {},
   "source": [
    "Now let's repeat that for another data type.\n",
    "````{admonition} Exercise\n",
    ":class: attention\n",
    "Type the code below in a new cell in your Notebook and run the cell. \n",
    "```Python\n",
    "# This stores the data in the variable\n",
    "text = \"this is a text\"\n",
    "# This determines its type\n",
    "type(text)\n",
    "```\n",
    "````\n",
    "```{admonition} Solution\n",
    ":class: tip, dropdown\n",
    "Python will return the type of the variable.\n",
    "```"
   ]
  },
  {
   "cell_type": "code",
   "execution_count": 5,
   "id": "4339ecaa",
   "metadata": {
    "tags": [
     "remove-input",
     "hide-output"
    ]
   },
   "outputs": [
    {
     "data": {
      "text/plain": [
       "str"
      ]
     },
     "execution_count": 5,
     "metadata": {},
     "output_type": "execute_result"
    }
   ],
   "source": [
    "text = \"this is a text\"\n",
    "type(text)"
   ]
  },
  {
   "cell_type": "markdown",
   "id": "520128d2",
   "metadata": {},
   "source": [
    "```{admonition} Note\n",
    "**Important!** If you input a number *with* quotation marks Python will see it as text!\n",
    "```\n",
    "\n",
    "````{admonition} Exercise \n",
    ":class: attention\n",
    "Type the following code in a new cell in your Notebook and run the cell. What data type is the number?\n",
    "```Python\n",
    "number_but_wrong = \"9\"\n",
    "type(number_but_wrong)\n",
    "```\n",
    "````\n",
    "\n",
    "```{admonition} Solution\n",
    ":class: tip, dropdown\n",
    "The cell should return 'str'. The number is seen as a string because of the quotation marks. \n",
    "```\n",
    "\n",
    "```{note}\n",
    "Sometimes an error in the code is due to the wrong data type. Checking data type is always a good start when error checking.\n",
    "```\n",
    "\n",
    "As mentioned above it is possible to use previously assigned variables in your code. \n",
    "This makes it possible to input a value just one time when it is needed more than once in the code.\n",
    "\n",
    "````{admonition} Exercise\n",
    ":class: attention\n",
    " Type the code below in a new cell in your Notebook and run the cell.\n",
    "```\n",
    "number_1 = 3\n",
    "number_2 = 6\n",
    "\n",
    "number_1 + number_2 \n",
    "```\n",
    "````\n",
    "```{admonition} Solution\n",
    ":class: tip, dropdown\n",
    "Python simply adds the original numbers as it remembers which input belongs to which variable.\n",
    "```"
   ]
  },
  {
   "cell_type": "code",
   "execution_count": 6,
   "id": "f178d838",
   "metadata": {
    "tags": [
     "remove-input",
     "hide-output"
    ]
   },
   "outputs": [
    {
     "data": {
      "text/plain": [
       "9"
      ]
     },
     "execution_count": 6,
     "metadata": {},
     "output_type": "execute_result"
    }
   ],
   "source": [
    "number_1 = 3\n",
    "number_2 = 6\n",
    "number_1 + number_2 "
   ]
  },
  {
   "cell_type": "markdown",
   "id": "19581d78",
   "metadata": {},
   "source": [
    "````{admonition} Exercise\n",
    ":class: attention\n",
    "Using Python variables, calculate the sum of \"35 + 69\" in the cell below. Start with making two variables to assign the numbers *35* and *69* to. Calculate the sum using these variables.\n",
    "```\n",
    "# Make a variable for the number 35\n",
    "\n",
    "# Make a variable for the number 69\n",
    "\n",
    "# Calculate the sum using the variables\n",
    "```\n",
    "````\n",
    "\n",
    "````{admonition} Solution\n",
    ":class: tip, dropdown\n",
    "Your code should look a bit like this:\n",
    "```Python\t\n",
    "number_1 = 35\n",
    "number_2 = 69\n",
    "number_1 + number_2 \n",
    "```\n",
    "````"
   ]
  },
  {
   "cell_type": "code",
   "execution_count": 7,
   "id": "a058c94b",
   "metadata": {
    "tags": [
     "remove-input",
     "hide-output"
    ]
   },
   "outputs": [
    {
     "data": {
      "text/plain": [
       "104"
      ]
     },
     "execution_count": 7,
     "metadata": {},
     "output_type": "execute_result"
    }
   ],
   "source": [
    "number_1 = 35\n",
    "number_2 = 69\n",
    "number_1 + number_2 "
   ]
  },
  {
   "cell_type": "markdown",
   "id": "c18efd10",
   "metadata": {},
   "source": [
    "The plus sign can be used to calculate sums, as you did in the above exercise. However, the plus sign can also be used to stick different strings together. \n",
    "\n",
    "````{admonition} Exercise\n",
    ":class: attention\n",
    "Type the code below in a new cell in your Notebook and run the cell.\n",
    "```Python\n",
    "line_1 = \"This is a \"\n",
    "line_2 = \"stuck together text\"\n",
    "line_1 + line_2\n",
    "```\n",
    "````\n",
    "```{admonition} Solution\n",
    ":class: tip, dropdown\n",
    "As you can see Python adds the text elements together to form a longer sentence. This also works with multiple variables.\n",
    "```"
   ]
  },
  {
   "cell_type": "code",
   "execution_count": 8,
   "id": "f033c91b",
   "metadata": {
    "tags": [
     "remove-input",
     "hide-output"
    ]
   },
   "outputs": [
    {
     "data": {
      "text/plain": [
       "'This is a stuck together text'"
      ]
     },
     "execution_count": 8,
     "metadata": {},
     "output_type": "execute_result"
    }
   ],
   "source": [
    "line_1 = \"This is a \"\n",
    "line_2 = \"stuck together text\"\n",
    "\n",
    "line_1 + line_2"
   ]
  },
  {
   "cell_type": "markdown",
   "id": "c0939e7d",
   "metadata": {},
   "source": [
    "````{admonition} Exercise\n",
    ":class: attention\n",
    "Ensure that the four lines below are printed as one sentence in the output.\n",
    "```Python\n",
    "line_1 = \"Because of this Notebook \"\n",
    "line_2 = \"I now know \"\n",
    "line_3 = \"that programming with Python \"\n",
    "line_4 = \"is very fun!\"\n",
    "```\n",
    "````\n",
    "\n",
    "````{admonition} Solution\n",
    ":class: tip, dropdown\n",
    "Your code should look like this:\n",
    "```Python\n",
    "line_1 + line_2 + line_3 + line_4\n",
    "```\n",
    "````"
   ]
  },
  {
   "cell_type": "code",
   "execution_count": 9,
   "id": "52e59003",
   "metadata": {
    "tags": [
     "remove-input",
     "hide-output"
    ]
   },
   "outputs": [
    {
     "data": {
      "text/plain": [
       "'Because of this Notebook I now know that programming with Python is very fun!'"
      ]
     },
     "execution_count": 9,
     "metadata": {},
     "output_type": "execute_result"
    }
   ],
   "source": [
    "line_1 = \"Because of this Notebook \"\n",
    "line_2 = \"I now know \"\n",
    "line_3 = \"that programming with Python \"\n",
    "line_4 = \"is very fun!\"\n",
    "line_1 + line_2 + line_3 + line_4"
   ]
  },
  {
   "cell_type": "markdown",
   "id": "1c8fe6f1",
   "metadata": {},
   "source": [
    "Now, what about adding text and numbers from variables together?\n",
    "\n",
    "````{admonition} Exercise\n",
    ":class: attention\n",
    "Type the code below in a cell in your Notebook and see what happens when you run the code.\n",
    "```Python\n",
    "line_1 = \"The amount of abstracts for DHBenelux is: \"\n",
    "amount_1 = 43\n",
    "line_1 + amount_1\n",
    "```\n",
    "````\n",
    "\n",
    "````{admonition} Solution\n",
    ":class: tip, dropdown\n",
    "This gives an error:\n",
    "```Python\n",
    "TypeError: can only concatenate str (not \"int\") to str\n",
    "```\n",
    "Just adding numbers and text does not work. Some extra work needs to be done in order for Python to correctly return output without errors\n",
    "````"
   ]
  },
  {
   "cell_type": "code",
   "execution_count": 10,
   "id": "0409dcda",
   "metadata": {
    "tags": [
     "remove-input",
     "hide-output",
     "raises-exception"
    ]
   },
   "outputs": [
    {
     "ename": "TypeError",
     "evalue": "can only concatenate str (not \"int\") to str",
     "output_type": "error",
     "traceback": [
      "\u001b[1;31m---------------------------------------------------------------------------\u001b[0m",
      "\u001b[1;31mTypeError\u001b[0m                                 Traceback (most recent call last)",
      "Input \u001b[1;32mIn [10]\u001b[0m, in \u001b[0;36m<cell line: 3>\u001b[1;34m()\u001b[0m\n\u001b[0;32m      1\u001b[0m line_1 \u001b[38;5;241m=\u001b[39m \u001b[38;5;124m\"\u001b[39m\u001b[38;5;124mThe amount of abstracts for DHBenelux is: \u001b[39m\u001b[38;5;124m\"\u001b[39m\n\u001b[0;32m      2\u001b[0m amount_1 \u001b[38;5;241m=\u001b[39m \u001b[38;5;241m43\u001b[39m\n\u001b[1;32m----> 3\u001b[0m \u001b[43mline_1\u001b[49m\u001b[43m \u001b[49m\u001b[38;5;241;43m+\u001b[39;49m\u001b[43m \u001b[49m\u001b[43mamount_1\u001b[49m\n",
      "\u001b[1;31mTypeError\u001b[0m: can only concatenate str (not \"int\") to str"
     ]
    }
   ],
   "source": [
    "line_1 = \"The amount of abstracts for DHBenelux is: \"\n",
    "amount_1 = 43\n",
    "line_1 + amount_1"
   ]
  },
  {
   "cell_type": "markdown",
   "id": "4674b517",
   "metadata": {},
   "source": [
    "There are multiple options to convince Python to return combinations of numbers and  text:\n",
    "- force numbers to text with *str()*\n",
    "- *f strings*\n",
    "\n",
    "To force Python to interpret a number as text its type can be changed with str(number).\n",
    "\n",
    "````{admonition} Exercise\n",
    ":class: attention\n",
    "Type the code below in a new cell in your Notebook and run the cell.\n",
    "```Python\n",
    "line_1 = \"The amount of abstracts for DHBenelux is: \"\n",
    "amount_1 = 43\n",
    "line_1 + str(amount_1)\n",
    "```\n",
    "````\n",
    "````{admonition} Solution\n",
    ":class: tip, dropdown\n",
    "Now the text and number are succesfully stuck together.\n",
    "```\n",
    "```{code-cell} \n",
    ":tags: [remove-output,hide-output]\n",
    "line_1 = \"The amount of abstracts for DHBenelux is: \"\n",
    "amount_1 = 43\n",
    "line_1 + str(amount_1)\n",
    "````\n",
    "\n",
    "This also works with multiple variabeles and pieces of text outside of variables.\n",
    "\n",
    "````{admonition} Exercise\n",
    ":class: attention\n",
    "Type the code below in a new cell in your Notebook and run the cell.\n",
    "```Python\n",
    "line_1 = \"coffee breaks \"\n",
    "amount_1 = 2\n",
    " \n",
    "\"The amount of \" + line_1 + \"in this workshop is: \" + str(amount_1)\n",
    "```\n",
    "````\n",
    "```{admonition} Solution\n",
    ":class: tip, dropdown\n",
    "Python will stick anything together, as long as it is of type text.  \n",
    "```"
   ]
  },
  {
   "cell_type": "code",
   "execution_count": 11,
   "id": "5b8cfd55",
   "metadata": {
    "tags": [
     "remove-input",
     "hide-output"
    ]
   },
   "outputs": [
    {
     "data": {
      "text/plain": [
       "'The amount of coffee breaks in this workshop is: 2'"
      ]
     },
     "execution_count": 11,
     "metadata": {},
     "output_type": "execute_result"
    }
   ],
   "source": [
    "line_1 = \"coffee breaks \"\n",
    "amount_1 = 2\n",
    "\"The amount of \" + line_1 + \"in this workshop is: \" + str(amount_1)"
   ]
  },
  {
   "cell_type": "markdown",
   "id": "946d5fcc",
   "metadata": {},
   "source": [
    "```{note}\n",
    "Notice the space after each of the pieces of text (either in or outside a variable).\n",
    "Try removing it to see what happens\n",
    "```\n",
    "\n",
    "Another option is the use of *f strings*. This is a way of telling Python where to insert the contents of a variable into a string. \n",
    "\n",
    "The syntax for *f strings* is:\n",
    "\n",
    "```python\n",
    "f\"This is the string we type and {this_is_the_variable}\"\n",
    "```\n",
    "\n",
    "````{admonition} Exercise\n",
    ":class: attention\n",
    "Type the code below in a new cell in your Notebook and run the cell.\n",
    "```Python\n",
    "line_1 = \"coffee breaks \"\n",
    "amount_1 = 2\n",
    " \n",
    "f\"The amount of {line_1} in this workshop is: {amount_1}\"\n",
    "```\n",
    "````\n",
    "```{admonition} Solution\n",
    ":class: tip, dropdown\n",
    "This gives the same output as simply sticking strings together with the + sign.\n",
    "```"
   ]
  },
  {
   "cell_type": "code",
   "execution_count": 12,
   "id": "72fb182b",
   "metadata": {
    "tags": [
     "remove-input",
     "hide-output"
    ]
   },
   "outputs": [
    {
     "data": {
      "text/plain": [
       "'The amount of coffee breaks  in this workshop is: 2'"
      ]
     },
     "execution_count": 12,
     "metadata": {},
     "output_type": "execute_result"
    }
   ],
   "source": [
    "line_1 = \"coffee breaks \"\n",
    "amount_1 = 2\n",
    "f\"The amount of {line_1} in this workshop is: {amount_1}\""
   ]
  },
  {
   "cell_type": "markdown",
   "id": "aa48d78a",
   "metadata": {},
   "source": [
    "*f strings* can be very powerful for making dynamic strings, such as automatically numbered filenames.\n",
    "\n",
    "### Output\n",
    "\n",
    "As you have already seen, executing code can produce output. In Jupyter Notebooks the output is presented within an output cell. Errors will be printed here too. \n",
    "Not all code will produce output, so don't be alarmed.\n",
    "\n",
    "Output should generally be created by printing using:"
   ]
  },
  {
   "cell_type": "code",
   "execution_count": 13,
   "id": "ee35025e",
   "metadata": {},
   "outputs": [
    {
     "name": "stdout",
     "output_type": "stream",
     "text": [
      "whatever you wish to print\n"
     ]
    }
   ],
   "source": [
    "print(\"whatever you wish to print\") "
   ]
  },
  {
   "cell_type": "markdown",
   "id": "375b6fb7",
   "metadata": {},
   "source": [
    "Text must be put between quotes or Python will assume you wish to print variables.\n",
    "\n",
    "Variables can be printed the same way as text, but must **not** have quotation marks.\n",
    "\n",
    "```{admonition} Exercise\n",
    ":class: attention\n",
    "In a new code cell, create the variable 'print_me' and assign to it \"I was printed with the print function\"\n",
    "Using the print function, print out the variable.\n",
    "```\n",
    "\n",
    "```{admonition} Solution\n",
    ":class: tip, dropdown\n",
    "\tprint_me = \"I was printed with the print function\"\n",
    "\tprint(print_me)\n",
    "```"
   ]
  },
  {
   "cell_type": "code",
   "execution_count": 14,
   "id": "0680f099",
   "metadata": {
    "tags": [
     "remove-input",
     "hide-output"
    ]
   },
   "outputs": [
    {
     "name": "stdout",
     "output_type": "stream",
     "text": [
      "I was printed with the print function\n"
     ]
    }
   ],
   "source": [
    "print_me = \"I was printed with the print function\"\n",
    "print(print_me)"
   ]
  },
  {
   "cell_type": "markdown",
   "id": "c9dd7197",
   "metadata": {},
   "source": [
    "As you can see, this prints the contents of the variable to the output cell.\n",
    "\n",
    "However, using Jupyter Notebooks there is also another way to create output. You have seen, and used, this before. The last line of a cell will always create output, if there is any output to create. \n",
    "\n",
    "To demonstrate this, let's reuse some of our variabeles.\n",
    "\n",
    "````{admonition} Exercise\n",
    ":class: attention\n",
    "In a new code cell, type out the following code and run the cell.\n",
    "```Python\n",
    "line_1\n",
    "amount_1\n",
    "print_me\n",
    "```\n",
    "Which variable is printed to the output?\n",
    "````\n",
    "\n",
    "```{admonition} Solution\n",
    ":class: tip, dropdown\n",
    "Only the last variable *print_me* is printed.\n",
    "Try changing the order and see if this behaviour is consistent.\n",
    "```"
   ]
  },
  {
   "cell_type": "code",
   "execution_count": 15,
   "id": "08b2cd74",
   "metadata": {
    "tags": [
     "remove-input",
     "hide-output"
    ]
   },
   "outputs": [
    {
     "data": {
      "text/plain": [
       "'I was printed with the print function'"
      ]
     },
     "execution_count": 15,
     "metadata": {},
     "output_type": "execute_result"
    }
   ],
   "source": [
    "line_1\n",
    "amount_1\n",
    "print_me"
   ]
  },
  {
   "cell_type": "markdown",
   "id": "3e2dcda0",
   "metadata": {},
   "source": [
    "These two ways of printing output are not completely the same. Printing using the print() function removes some of the layout that Jupyter creates for you. \n",
    "This is very noticable when printing tables (which we call 'Dataframes').\n",
    "\n",
    "We have created a variable *table_1* for you that contains a table of numbers. Which we will use to demonstrate the difference in printing.\n",
    "\n",
    "```{admonition} Exercise\n",
    ":class: attention\n",
    "In a new code cell, print out the variable *table* using the print() function and by executing the variabel\n",
    "Which variable is printed to the output?\n",
    "```\n",
    "\n",
    "````{admonition} Solution\n",
    ":class: tip, dropdown\n",
    "You will have used \n",
    "```print(table_1)```\n",
    "or \n",
    "```table_1```\n",
    "to print out the table. You can check below of the output matches yours.\n",
    "````\n",
    "\n",
    "The output of ```print(table_1)```"
   ]
  },
  {
   "cell_type": "code",
   "execution_count": 16,
   "id": "2feaa6eb",
   "metadata": {
    "tags": [
     "remove-input",
     "hide-output"
    ]
   },
   "outputs": [
    {
     "name": "stdout",
     "output_type": "stream",
     "text": [
      "This was printed with the print() function.\n",
      "     I   am   a  table     of  numbers\n",
      "0   32    6   7      5  34534        7\n",
      "1  123  543   3      7      8       43\n",
      "2   12   34   8      6     34       65\n",
      "3   12   32  56    873     56        3\n"
     ]
    }
   ],
   "source": [
    "import pandas as pd\n",
    "data = [32,6,7,5,34534,7], [123,543,3,7,8,43],[12,34,8,6,34,65],[12,32,56,873,56,3]\n",
    "table_1 = pd.DataFrame(data, columns = [\"I\",\"am\",\"a\",\"table\",\"of\",\"numbers\"])\n",
    "print(\"This was printed with the print() function.\")\n",
    "print(table_1)"
   ]
  },
  {
   "cell_type": "markdown",
   "id": "01b3f73f",
   "metadata": {},
   "source": [
    "The output of ```table_1```"
   ]
  },
  {
   "cell_type": "code",
   "execution_count": 17,
   "id": "16fa52f1",
   "metadata": {
    "tags": [
     "remove-input",
     "hide-output"
    ]
   },
   "outputs": [
    {
     "name": "stdout",
     "output_type": "stream",
     "text": [
      "This was printed by executing table_1\n"
     ]
    },
    {
     "data": {
      "text/html": [
       "<div>\n",
       "<style scoped>\n",
       "    .dataframe tbody tr th:only-of-type {\n",
       "        vertical-align: middle;\n",
       "    }\n",
       "\n",
       "    .dataframe tbody tr th {\n",
       "        vertical-align: top;\n",
       "    }\n",
       "\n",
       "    .dataframe thead th {\n",
       "        text-align: right;\n",
       "    }\n",
       "</style>\n",
       "<table border=\"1\" class=\"dataframe\">\n",
       "  <thead>\n",
       "    <tr style=\"text-align: right;\">\n",
       "      <th></th>\n",
       "      <th>I</th>\n",
       "      <th>am</th>\n",
       "      <th>a</th>\n",
       "      <th>table</th>\n",
       "      <th>of</th>\n",
       "      <th>numbers</th>\n",
       "    </tr>\n",
       "  </thead>\n",
       "  <tbody>\n",
       "    <tr>\n",
       "      <th>0</th>\n",
       "      <td>32</td>\n",
       "      <td>6</td>\n",
       "      <td>7</td>\n",
       "      <td>5</td>\n",
       "      <td>34534</td>\n",
       "      <td>7</td>\n",
       "    </tr>\n",
       "    <tr>\n",
       "      <th>1</th>\n",
       "      <td>123</td>\n",
       "      <td>543</td>\n",
       "      <td>3</td>\n",
       "      <td>7</td>\n",
       "      <td>8</td>\n",
       "      <td>43</td>\n",
       "    </tr>\n",
       "    <tr>\n",
       "      <th>2</th>\n",
       "      <td>12</td>\n",
       "      <td>34</td>\n",
       "      <td>8</td>\n",
       "      <td>6</td>\n",
       "      <td>34</td>\n",
       "      <td>65</td>\n",
       "    </tr>\n",
       "    <tr>\n",
       "      <th>3</th>\n",
       "      <td>12</td>\n",
       "      <td>32</td>\n",
       "      <td>56</td>\n",
       "      <td>873</td>\n",
       "      <td>56</td>\n",
       "      <td>3</td>\n",
       "    </tr>\n",
       "  </tbody>\n",
       "</table>\n",
       "</div>"
      ],
      "text/plain": [
       "     I   am   a  table     of  numbers\n",
       "0   32    6   7      5  34534        7\n",
       "1  123  543   3      7      8       43\n",
       "2   12   34   8      6     34       65\n",
       "3   12   32  56    873     56        3"
      ]
     },
     "execution_count": 17,
     "metadata": {},
     "output_type": "execute_result"
    }
   ],
   "source": [
    "print(\"This was printed by executing table_1\")\n",
    "table_1"
   ]
  },
  {
   "cell_type": "markdown",
   "id": "5c0a90cd",
   "metadata": {},
   "source": [
    "While this difference is purely aesthetic, it is good to know, especially when working with table formatted data.\n",
    " \n",
    "### Functions\n",
    "\n",
    "When you program in Python you will make use of functions. The *str()* code used in the previous exercise to make Python recognize numbers as text was an example of a function. Python contains a lot of built-in functions that are ready to use. Saving us a lot of manual coding!\n",
    "\n",
    "Functions need to be passed one or more parameters as input. The syntax of a function is as follows: *functionname(parameters)*. When there are multiple parameters these are seperated with a comma.\n",
    "\n",
    "You can find some examples below.\n",
    "\n",
    "````{admonition} Exercise\n",
    ":class: attention\n",
    "Type the code below in a new cell in your Notebook and run the cell.\n",
    "```Python\n",
    "# Calculate the highest number using the max() function.\n",
    "max(5, 8, 35, 4, 75, 2)\n",
    "```\n",
    "````\n",
    "```{admonition} Solution\n",
    ":class: tip, dropdown\n",
    "See how this function finds the highest number for you? \n",
    "```"
   ]
  },
  {
   "cell_type": "code",
   "execution_count": 18,
   "id": "364b6c5f",
   "metadata": {
    "tags": [
     "remove-input",
     "hide-output"
    ]
   },
   "outputs": [
    {
     "data": {
      "text/plain": [
       "75"
      ]
     },
     "execution_count": 18,
     "metadata": {},
     "output_type": "execute_result"
    }
   ],
   "source": [
    "# Calculate the highest number using the max() function.\n",
    "max(5, 8, 35, 4, 75, 2)"
   ]
  },
  {
   "cell_type": "markdown",
   "id": "06f05392",
   "metadata": {},
   "source": [
    "````{admonition} Exercise\n",
    ":class: attention\n",
    "Round the number below using the round() function. The first parameter is the number to round. The second number is the required number of decimals. Type the code below in a new cell in your Notebook and run the cell\n",
    "```Python\n",
    "round(36.53343, 2)\n",
    "```\n",
    "````\n",
    "```{admonition} Solution\n",
    ":class: tip, dropdown\n",
    "This function neatly rounds the number to the amount of digits you specified. You can try inputting a different amount of digits. \n",
    "```"
   ]
  },
  {
   "cell_type": "code",
   "execution_count": 19,
   "id": "39f7549a",
   "metadata": {
    "tags": [
     "remove-input",
     "hide-output"
    ]
   },
   "outputs": [
    {
     "data": {
      "text/plain": [
       "36.53"
      ]
     },
     "execution_count": 19,
     "metadata": {},
     "output_type": "execute_result"
    }
   ],
   "source": [
    "round(36.53343, 2)"
   ]
  },
  {
   "cell_type": "markdown",
   "id": "ed578b56",
   "metadata": {},
   "source": [
    "```{admonition} Exercise\n",
    ":class: attention\n",
    "Calculate the *lowest* number using the function min(). This functions works similarly to the previously used max() function.\n",
    "Use the following numbers: 6, 24, 8, 2, 14. \n",
    "```\n",
    "\n",
    "````{admonition} Solution\n",
    ":class: tip, dropdown\n",
    "The code should look like this\n",
    "```\n",
    "min(6, 24, 8, 2, 14)\n",
    "```\n",
    "````"
   ]
  },
  {
   "cell_type": "code",
   "execution_count": 20,
   "id": "fd7d26a7",
   "metadata": {
    "tags": [
     "remove-input",
     "hide-output"
    ]
   },
   "outputs": [
    {
     "data": {
      "text/plain": [
       "2"
      ]
     },
     "execution_count": 20,
     "metadata": {},
     "output_type": "execute_result"
    }
   ],
   "source": [
    "min(6, 24, 8, 2, 14)"
   ]
  },
  {
   "cell_type": "markdown",
   "id": "bb13cf3e",
   "metadata": {},
   "source": [
    "### Conditional statements, *if else*\n",
    "\n",
    "Python is able to use conditional statements. These are control structures that enable us to decide what to do based on what happens in our code and input. It requires that that one or more conditions are specified to be evaluated or tested by the program, along with something that the code must do if the condition is determined to be true, and optionally, something else if the condition is determined to be false. \n",
    "\n",
    "For example:\n",
    "```\n",
    "if \"hungry\":\n",
    "\tto_do = \"Lunch!\"\n",
    "else:\n",
    "\tto_do = \"Work!\"\n",
    "```\n",
    "These can also be extended using multiple choices:\n",
    "```\n",
    "if \"hungry\":\n",
    "\tto_do = \"Lunch!\"\n",
    "elif \"tired\": \n",
    "\tto_do = \"Coffee!\" \n",
    "else:\n",
    "\tto_do = \"Work!\"\n",
    "```\n",
    "Instead of coding out conditions directly into the *if else*, it is also possible to evaluate the contents of a variable. This enables us to reuse an *if else* block multiple times."
   ]
  },
  {
   "cell_type": "code",
   "execution_count": 21,
   "id": "6b252eeb",
   "metadata": {},
   "outputs": [],
   "source": [
    "## First we put the condition into a variable \n",
    "current_state = \"hungry\"\n",
    "## then we evaluate the variable\n",
    "if current_state == \"hungry\":\n",
    "\tto_do = \"Lunch!\"\n",
    "elif current_state == \"tired\": \n",
    "\tto_do = \"Coffee!\" \n",
    "else:\n",
    "\tto_do = \"Work!\"\n",
    "\t"
   ]
  },
  {
   "cell_type": "markdown",
   "id": "19ab89d3",
   "metadata": {},
   "source": [
    "If we would now print the contents of the variable *to_do* we would get:"
   ]
  },
  {
   "cell_type": "code",
   "execution_count": 22,
   "id": "b7c5f834",
   "metadata": {},
   "outputs": [
    {
     "name": "stdout",
     "output_type": "stream",
     "text": [
      "Lunch!\n"
     ]
    }
   ],
   "source": [
    "print(to_do)"
   ]
  },
  {
   "cell_type": "markdown",
   "id": "97498928",
   "metadata": {},
   "source": [
    "### Packages\n",
    "\n",
    "The last important thing to know is that Python works with packages. A package is a collection of modules with predefined functions. These functions can than be used in your own code. Using packages can save a lot of programming work and enhances the functionality of base Python. Most Python programmers regularly use packages.\n",
    "\n",
    "Before using a Python package it needs to be *installed*. This is preferably done using the command line but can also be done within your Jupyter Notebook.\n",
    "Afterwards the package needs to be *imported* into the Notebook. After importing the package is ready for use.\n",
    "\n",
    "To demonstrate this we will install, import and use a package to display some information about the contents of the presentations during DHBenelux 2022. \n",
    "\n",
    "First you will need to download the dataset. The dataset can be [downloaded here](https://github.com/MirjamC/xml-workshop/blob/master/data/wordcloud_dataset.csv).\n",
    "To be able to install wordcloud correctly, you preferably have Anaconda installed, as installing it can be difficult otherwise. \n",
    "\n",
    "Now let's install and import the packages we need.\n",
    "We will need three packages:\n",
    "- Pandas, for easy data manipulation; \n",
    "- matplotlib, for plotting in Python;\n",
    "- WordCloud, for generating a wordcloud. \n",
    "\n",
    "````{admonition} Exercise\n",
    ":class: attention\n",
    "Open \"Anaconda prompt\" through the start menu and install the packages with the following code. Install them sequentially and wait until a package is installed\n",
    "before installing the next one. \n",
    "```\n",
    "pip install pandas\n",
    "conda install -c conda-forge wordcloud \n",
    "pip install matplotlib\n",
    "```\n",
    "````\n",
    "\n",
    "```{figure} /images/anacondaprompt.png\n",
    "---\n",
    "height: 200px\n",
    "name: Open Anaconda Prompt\n",
    "---\n",
    "Open Anaconda prompt.\n",
    "```\n",
    "\n",
    "```{figure} /images/anacondaprompt3.png\n",
    "---\n",
    "height: 200px\n",
    "name: The Anaconda commandline\n",
    "---\n",
    "Type out the install code.\n",
    "```\n",
    "\n",
    "````{note}\n",
    "When installing packages within a Jupyter Notebook, an exlamation mark is needed to activate *pip* within the Notebook enviroment. When installing from the command line this is not needed.\n",
    "For example:\n",
    "```Python\n",
    "!pip install pandas\n",
    "```\n",
    "````\n",
    "\n",
    "````{admonition} Exercise\n",
    ":class: attention\n",
    "Now let's import the packages. Type the code below in a new cell in your Notebook and run the cell.\n",
    "```Python\n",
    "# Import the packages\n",
    "import pandas as pd\n",
    "from wordcloud import WordCloud\n",
    "import matplotlib.pyplot as plt\n",
    "```\n",
    "````"
   ]
  },
  {
   "cell_type": "code",
   "execution_count": 23,
   "id": "5f914edc",
   "metadata": {
    "tags": [
     "remove-cell"
    ]
   },
   "outputs": [],
   "source": [
    "import pandas as pd\n",
    "from wordcloud import WordCloud\n",
    "import matplotlib.pyplot as plt"
   ]
  },
  {
   "cell_type": "markdown",
   "id": "7a67d4a4",
   "metadata": {},
   "source": [
    "```{note}\n",
    "There is a difference between the import statements of the three packages. In the case of *pandas* and *wordcloud* we import the whole package. \n",
    "For *matplotlib* we only want the *pyplot* module, so we added this explicitly after the package name. This ensures that ony that module is imported. The *as plt* and *as pd* statement renames package to a shorter and easier typable code. You will see this used below.\n",
    "```\n",
    "\n",
    "A package can be used in the same way as a function. \n",
    "We will use the *pandas* package to load data into the Notebook in a way that is digestable for the creation of a wordcloud.\n",
    "Many packages feature multiple functions for data manipulation, calculation or visualisation. The function you wish to use is added after the package name. The package name points Python to the location of the function. \n",
    "\n",
    "Syntax: \n",
    "```Python \n",
    "packagename.function(parameters)\n",
    "```\n",
    "\n",
    "````{admonition} Exercise\n",
    ":class: attention\n",
    "Type the code below in a new cell in your Notebook and run the cell.\n",
    "```Python\n",
    "# Read the dataset into Python using pandas\n",
    "wordcloud = pd.read_csv(\"data/wordcloud_dataset.csv\", header=None, index_col=0, squeeze=True)\n",
    "# Transform into dictionary for use in the WordCloud\n",
    "wordcloud_dict = wordcloud.to_dict()\n",
    "# It is good practice to check if the data is loaded correctly\n",
    "wordcloud_dict\n",
    "```\n",
    "````\n",
    "```{note}\n",
    "As you can see, the *pandas* name 'pd' precedes the option *read_csv*. \n",
    "```\n",
    "```{admonition} Solution\n",
    ":class: tip, dropdown\n",
    "This should have loaded the data into your Notebook. As stated in the comment it is good practice to check what you have loaded. See if the output matches that below.\n",
    "```"
   ]
  },
  {
   "cell_type": "code",
   "execution_count": 24,
   "id": "ad1fe2d5",
   "metadata": {
    "tags": [
     "remove-input",
     "hide-output",
     "output_scroll"
    ]
   },
   "outputs": [
    {
     "name": "stderr",
     "output_type": "stream",
     "text": [
      "C:\\Users\\mirjam\\AppData\\Local\\Temp\\ipykernel_26176\\1470747503.py:1: FutureWarning: The squeeze argument has been deprecated and will be removed in a future version. Append .squeeze(\"columns\") to the call to squeeze.\n",
      "\n",
      "\n",
      "  wordcloud = pd.read_csv(\"data/wordcloud_dataset.csv\", header=None, index_col=0, squeeze=True)\n"
     ]
    },
    {
     "data": {
      "text/plain": [
       "{'machine': 1,\n",
       " 'learning': 1,\n",
       " 'read': 1,\n",
       " 'yesterdays': 1,\n",
       " 'news': 1,\n",
       " 'how': 3,\n",
       " 'semantic': 1,\n",
       " 'enrichments': 1,\n",
       " 'enhance': 1,\n",
       " 'study': 1,\n",
       " 'digitised': 2,\n",
       " 'historical': 8,\n",
       " 'newspapers': 4,\n",
       " 'creating': 1,\n",
       " 'data': 11,\n",
       " 'workflows': 2,\n",
       " 'humanities': 4,\n",
       " 'research': 4,\n",
       " 'automatically': 2,\n",
       " 'extract': 3,\n",
       " 'text': 4,\n",
       " 'layout': 2,\n",
       " 'metadata': 3,\n",
       " 'information': 2,\n",
       " 'from': 5,\n",
       " 'xmlfiles': 2,\n",
       " 'ocred': 2,\n",
       " 'texts': 2,\n",
       " 'greening': 1,\n",
       " 'digital': 5,\n",
       " 'writing': 2,\n",
       " 'multilayered': 1,\n",
       " 'articles': 1,\n",
       " 'example': 1,\n",
       " 'journal': 1,\n",
       " 'history': 7,\n",
       " 'are': 2,\n",
       " 'we': 1,\n",
       " 'working': 1,\n",
       " 'with': 3,\n",
       " 'opening': 1,\n",
       " 'keynote': 1,\n",
       " 'modeling': 1,\n",
       " 'investigating': 1,\n",
       " 'variation': 1,\n",
       " 'language': 1,\n",
       " 'use': 2,\n",
       " 'communicative': 1,\n",
       " 'perspective': 1,\n",
       " 'methods': 2,\n",
       " 'challenges': 2,\n",
       " 'types': 1,\n",
       " 'evidence': 1,\n",
       " 'twoway': 1,\n",
       " 'street': 1,\n",
       " 'between': 1,\n",
       " 'ai': 1,\n",
       " 'media': 2,\n",
       " 'scholars': 1,\n",
       " 'developing': 1,\n",
       " 'stories': 1,\n",
       " 'as': 1,\n",
       " 'enhanced': 1,\n",
       " 'publications': 1,\n",
       " 'open': 2,\n",
       " 'science': 1,\n",
       " 'linked': 2,\n",
       " 'create': 1,\n",
       " 'fair': 1,\n",
       " 'corpus': 1,\n",
       " 'intra': 1,\n",
       " 'belgian': 1,\n",
       " 'literary': 3,\n",
       " 'translations': 1,\n",
       " '19702020': 1,\n",
       " 'extracting': 1,\n",
       " 'providing': 1,\n",
       " 'online': 1,\n",
       " 'access': 1,\n",
       " 'annotated': 1,\n",
       " 'semantically': 1,\n",
       " 'enriched': 1,\n",
       " 'agoda': 1,\n",
       " 'project': 1,\n",
       " 'moving': 1,\n",
       " 'beyond': 1,\n",
       " 'tooloriented': 1,\n",
       " 'teaching': 1,\n",
       " 'within': 1,\n",
       " 'challenge': 1,\n",
       " 'appropriating': 1,\n",
       " 'clariah': 1,\n",
       " 'suite': 1,\n",
       " 'into': 2,\n",
       " 'toolsupported': 1,\n",
       " 'network': 1,\n",
       " 'analysis': 2,\n",
       " 'wikipedia': 1,\n",
       " 'editors': 1,\n",
       " 'engagement': 1,\n",
       " 'interests': 1,\n",
       " 'identities': 1,\n",
       " 'power': 1,\n",
       " 'hierarchy': 1,\n",
       " 'key': 1,\n",
       " 'actors': 1,\n",
       " 'events': 1,\n",
       " 'discourses': 1,\n",
       " 'gormanrijneveld': 1,\n",
       " 'translation': 1,\n",
       " 'controversy': 1,\n",
       " 'twitter': 1,\n",
       " 'dragen': 1,\n",
       " 'van': 1,\n",
       " 'mondkapjes': 2,\n",
       " 'niet': 1,\n",
       " 'nodig': 1,\n",
       " 'is': 2,\n",
       " 'zijn': 1,\n",
       " 'verplichthow': 1,\n",
       " 'netherlands': 1,\n",
       " 'dealt': 1,\n",
       " 'first': 1,\n",
       " 'wave': 1,\n",
       " 'covid19': 1,\n",
       " 'pandemic': 1,\n",
       " 'promising': 1,\n",
       " 'road': 1,\n",
       " 'automatic': 1,\n",
       " 'speech': 1,\n",
       " 'recognition': 1,\n",
       " 'privacysensitive': 1,\n",
       " 'dutch': 4,\n",
       " 'doctorpatient': 1,\n",
       " 'consultation': 1,\n",
       " 'recordings': 1,\n",
       " 'understanding': 1,\n",
       " 'bias': 3,\n",
       " 'through': 2,\n",
       " 'datadriven': 1,\n",
       " 'digitisation': 1,\n",
       " 'enrichment': 1,\n",
       " '100000': 1,\n",
       " 'pages': 1,\n",
       " 'handwritten': 1,\n",
       " 'police': 1,\n",
       " 'reports': 1,\n",
       " 'antwerp': 1,\n",
       " '18291945': 1,\n",
       " 'extraction': 1,\n",
       " 'classification': 1,\n",
       " 'stamp': 1,\n",
       " 'cards': 1,\n",
       " 'using': 2,\n",
       " 'computer': 1,\n",
       " 'vision': 1,\n",
       " 'unlocking': 1,\n",
       " 'web': 1,\n",
       " 'archives': 2,\n",
       " 'seed': 1,\n",
       " 'lists': 1,\n",
       " 'derived': 1,\n",
       " 'defying': 1,\n",
       " 'expectations': 1,\n",
       " 'stylistically': 1,\n",
       " 'unconventional': 1,\n",
       " 'anger': 1,\n",
       " 'contemporary': 1,\n",
       " 'novel': 1,\n",
       " 'clip': 1,\n",
       " 'analyze': 1,\n",
       " 'images': 1,\n",
       " 'family': 1,\n",
       " '3000': 1,\n",
       " 'dutchlanguage': 1,\n",
       " 'childrens': 1,\n",
       " 'books': 1,\n",
       " '18001940': 1,\n",
       " 'distant': 2,\n",
       " 'reading': 1,\n",
       " 'gender': 1,\n",
       " 'prizes': 1,\n",
       " 'claudine': 1,\n",
       " 'at': 2,\n",
       " 'workshop': 1,\n",
       " 'impact': 1,\n",
       " 'willy': 1,\n",
       " 'his': 1,\n",
       " 'secretaries': 1,\n",
       " 'colettes': 1,\n",
       " 'shape': 1,\n",
       " 'doubt': 1,\n",
       " 'employing': 1,\n",
       " 'visualization': 1,\n",
       " 'investigate': 1,\n",
       " 'stylistic': 1,\n",
       " 'features': 1,\n",
       " 'narrative': 1,\n",
       " 'works': 1,\n",
       " 'italo': 1,\n",
       " 'calvino': 1,\n",
       " 'unmixing': 1,\n",
       " 'remix': 1,\n",
       " 'publishing': 1,\n",
       " 'complete': 1,\n",
       " 'manuscripts': 1,\n",
       " 'anne': 1,\n",
       " 'frank': 1,\n",
       " 'zortify': 1,\n",
       " 'round': 1,\n",
       " 'table': 1,\n",
       " 'hybrid': 1,\n",
       " 'knowledge': 1,\n",
       " 'new': 2,\n",
       " 'insights': 1,\n",
       " 'augmented': 1,\n",
       " 'intelligence': 1,\n",
       " 'human': 1,\n",
       " 'decisionmaking': 1,\n",
       " 'user': 1,\n",
       " 'demand': 1,\n",
       " 'supporting': 1,\n",
       " 'advanced': 1,\n",
       " 'collections': 2,\n",
       " 'exploring': 1,\n",
       " 'setting': 1,\n",
       " 'an': 1,\n",
       " 'agenda': 1,\n",
       " 'historic': 1,\n",
       " 'machines': 1,\n",
       " 'prams': 1,\n",
       " 'parliament': 1,\n",
       " 'avenues': 1,\n",
       " 'collaborative': 1,\n",
       " 'linguistic': 1,\n",
       " 'clash': 1,\n",
       " 'colorful': 1,\n",
       " 'worlds': 1,\n",
       " 'viewing': 1,\n",
       " 'color': 1,\n",
       " 'western': 1,\n",
       " 'visual': 1,\n",
       " 'representations': 1,\n",
       " 'orient': 1,\n",
       " 'occident': 1,\n",
       " '1890': 1,\n",
       " '1920': 1,\n",
       " 'cutting': 1,\n",
       " 'its': 1,\n",
       " 'joints': 1,\n",
       " 'computational': 1,\n",
       " 'approach': 2,\n",
       " 'periodizing': 1,\n",
       " 'concept': 1,\n",
       " 'manuscript': 1,\n",
       " 'syntactic': 1,\n",
       " 'tree': 1,\n",
       " 'long': 1,\n",
       " 'journey': 1,\n",
       " 'mathematical': 1,\n",
       " 'bibliographic': 1,\n",
       " 'textual': 1,\n",
       " 'studies': 1,\n",
       " 'personal': 1,\n",
       " 'library': 1,\n",
       " 'medieval': 1,\n",
       " 'sweden': 1,\n",
       " 'reference': 1,\n",
       " 'work': 1,\n",
       " 'transformed': 1,\n",
       " 'xml': 1,\n",
       " 'whose': 1,\n",
       " 'i': 1,\n",
       " 'it': 1,\n",
       " 'anyway': 2,\n",
       " 'comparing': 2,\n",
       " 'rulebased': 1,\n",
       " 'bert': 1,\n",
       " 'token': 1,\n",
       " 'classifier': 1,\n",
       " 'quote': 1,\n",
       " 'detection': 1,\n",
       " 'whats': 1,\n",
       " 'liberal': 1,\n",
       " 'newspaper': 1,\n",
       " 'performance': 1,\n",
       " 'usability': 1,\n",
       " 'stateoftheart': 1,\n",
       " 'ocr': 1,\n",
       " 'frenchdutch': 1,\n",
       " 'bilingual': 1,\n",
       " 'sources': 1,\n",
       " 'detecting': 1,\n",
       " 'perspectives': 1,\n",
       " 'population': 1,\n",
       " 'subgroups': 1,\n",
       " 'pillarised': 1,\n",
       " 'contentious': 1,\n",
       " 'words': 1,\n",
       " 'represented': 1,\n",
       " 'museum': 1,\n",
       " 'collection': 1,\n",
       " 'montage': 1,\n",
       " 'towards': 1,\n",
       " 'coherence': 1,\n",
       " 'multimodal': 1,\n",
       " 'representation': 1,\n",
       " 'enriching': 1,\n",
       " 'cultural': 2,\n",
       " 'heritage': 1,\n",
       " 'quest': 1,\n",
       " 'interoperability': 1,\n",
       " 'audiovisual': 1,\n",
       " 'digitized': 1,\n",
       " 'natural': 1}"
      ]
     },
     "execution_count": 24,
     "metadata": {},
     "output_type": "execute_result"
    }
   ],
   "source": [
    "wordcloud = pd.read_csv(\"data/wordcloud_dataset.csv\", header=None, index_col=0, squeeze=True)\n",
    "wordcloud_dict = wordcloud.to_dict()\n",
    "wordcloud_dict"
   ]
  },
  {
   "cell_type": "markdown",
   "id": "e23d3307",
   "metadata": {},
   "source": [
    "When the data is loaded correctly we can use the *WordCloud* and *matplotlib* packages to create a wordcloud from the data.\n",
    "\n",
    "````{admonition} Exercise\n",
    ":class: attention\n",
    "Copy the code below in a new cell in your Notebook and run the cell.\n",
    "```Python\n",
    "# initialise the wordcloud\n",
    "wc = WordCloud(background_color=\"white\", max_words=20)\n",
    "# generate the wordcloud \n",
    "wc.generate_from_frequencies(wordcloud_dict)\n",
    "# plt the wordcloud to the output\n",
    "plt.figure()\n",
    "plt.imshow(wc,interpolation=\"bilinear\")\n",
    "plt.axis(\"off\")\n",
    "plt.show()\n",
    "```\n",
    "````\n",
    "```{admonition} Solution\n",
    ":class: tip, dropdown\n",
    "This should plot a wordcloud showing maximally 20 word in different sizes. Each word is sized by the amount of times it occurs in the titles of the DHBenelux 2022 abstract. Common words like 'the' and 'of' have already been removed.\n",
    "This visualiation can give quick insight to which items are popular at the moment. \n",
    "```"
   ]
  },
  {
   "cell_type": "code",
   "execution_count": 25,
   "id": "aa5362a0",
   "metadata": {
    "tags": [
     "remove-input",
     "hide-output"
    ]
   },
   "outputs": [
    {
     "data": {
      "image/png": "[encoded data removed]",
      "text/plain": [
       "<Figure size 432x288 with 1 Axes>"
      ]
     },
     "metadata": {
      "filenames": {
       "image/png": "D:\\Projecten\\XML workshop\\xml-workshop\\_build\\jupyter_execute\\1_introduction_python_49_0.png"
      },
      "needs_background": "light"
     },
     "output_type": "display_data"
    }
   ],
   "source": [
    "wc = WordCloud(background_color=\"white\", max_words=20)\n",
    "wc.generate_from_frequencies(wordcloud_dict)\n",
    "plt.figure()\n",
    "plt.imshow(wc,interpolation=\"bilinear\")\n",
    "plt.axis(\"off\")\n",
    "plt.show()"
   ]
  },
  {
   "cell_type": "markdown",
   "id": "8fbd962b",
   "metadata": {},
   "source": [
    "Well done! Now you know the basics of working with Jupyter Notebooks and Python. We will use this in the coming chapters."
   ]
  }
 ],
 "metadata": {
  "jupytext": {
   "cell_metadata_filter": "-all",
   "formats": "md:myst",
   "text_representation": {
    "extension": ".md",
    "format_name": "myst",
    "format_version": 0.13,
    "jupytext_version": "1.11.5"
   }
  },
  "kernelspec": {
   "display_name": "Python 3",
   "language": "python",
   "name": "python3"
  },
  "language_info": {
   "codemirror_mode": {
    "name": "ipython",
    "version": 3
   },
   "file_extension": ".py",
   "mimetype": "text/x-python",
   "name": "python",
   "nbconvert_exporter": "python",
   "pygments_lexer": "ipython3",
   "version": "3.9.12"
  },
  "source_map": [
   14,
   137,
   140,
   170,
   172,
   207,
   211,
   245,
   249,
   265,
   269,
   309,
   314,
   337,
   342,
   360,
   367,
   387,
   394,
   416,
   421,
   466,
   471,
   500,
   505,
   515,
   517,
   534,
   538,
   561,
   566,
   589,
   596,
   599,
   603,
   626,
   630,
   643,
   646,
   661,
   664,
   686,
   697,
   699,
   701,
   766,
   771,
   806,
   811,
   835,
   843
  ]
 },
 "nbformat": 4,
 "nbformat_minor": 5
}